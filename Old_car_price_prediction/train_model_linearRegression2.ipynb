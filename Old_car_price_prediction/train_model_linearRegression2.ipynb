{
 "cells": [
  {
   "cell_type": "markdown",
   "id": "8c255466",
   "metadata": {},
   "source": [
    "# Pré-processamento e  Treinamento do modelo de regressão Linear\n",
    "* No primeiro modelo: mod_lin_reg_1 foi realizado o treinamento utilizando o método de encoding label para as variáveis categóricas. \n",
    "\n",
    "* Nesse modelo de regressão iremos adotar o uso do one-hotencoding para tratar os dados categóricos. "
   ]
  },
  {
   "cell_type": "code",
   "execution_count": 130,
   "id": "d8d737a6",
   "metadata": {},
   "outputs": [],
   "source": [
    "import numpy as np\n",
    "import pandas as pd\n",
    "import matplotlib.pyplot as plt\n",
    "import seaborn as sns\n",
    "import joblib\n",
    "import sklearn\n",
    "from sklearn.preprocessing import LabelEncoder, MinMaxScaler, StandardScaler, OneHotEncoder\n",
    "from sklearn.pipeline import Pipeline\n",
    "from sklearn.compose import ColumnTransformer\n",
    "from sklearn.model_selection import train_test_split\n",
    "from sklearn.linear_model import LinearRegression\n",
    "import statsmodels.api as sm\n",
    "import warnings\n",
    "warnings.filterwarnings('ignore')"
   ]
  },
  {
   "cell_type": "code",
   "execution_count": 4,
   "id": "32580e46",
   "metadata": {},
   "outputs": [
    {
     "data": {
      "text/html": [
       "<div>\n",
       "<style scoped>\n",
       "    .dataframe tbody tr th:only-of-type {\n",
       "        vertical-align: middle;\n",
       "    }\n",
       "\n",
       "    .dataframe tbody tr th {\n",
       "        vertical-align: top;\n",
       "    }\n",
       "\n",
       "    .dataframe thead th {\n",
       "        text-align: right;\n",
       "    }\n",
       "</style>\n",
       "<table border=\"1\" class=\"dataframe\">\n",
       "  <thead>\n",
       "    <tr style=\"text-align: right;\">\n",
       "      <th></th>\n",
       "      <th>car_name</th>\n",
       "      <th>kms_driven</th>\n",
       "      <th>fuel_type</th>\n",
       "      <th>transmission</th>\n",
       "      <th>ownership</th>\n",
       "      <th>manufacture</th>\n",
       "      <th>engine</th>\n",
       "      <th>Seats</th>\n",
       "      <th>price</th>\n",
       "      <th>multiply</th>\n",
       "      <th>engine_cat</th>\n",
       "    </tr>\n",
       "  </thead>\n",
       "  <tbody>\n",
       "    <tr>\n",
       "      <th>0</th>\n",
       "      <td>Jeep</td>\n",
       "      <td>86226.0</td>\n",
       "      <td>Diesel</td>\n",
       "      <td>Manual</td>\n",
       "      <td>1st Owner</td>\n",
       "      <td>2017.0</td>\n",
       "      <td>1956.0</td>\n",
       "      <td>5.0</td>\n",
       "      <td>10.03</td>\n",
       "      <td>Lakh</td>\n",
       "      <td>medium</td>\n",
       "    </tr>\n",
       "    <tr>\n",
       "      <th>1</th>\n",
       "      <td>Renault</td>\n",
       "      <td>13248.0</td>\n",
       "      <td>Petrol</td>\n",
       "      <td>Automatic</td>\n",
       "      <td>1st Owner</td>\n",
       "      <td>2021.0</td>\n",
       "      <td>1330.0</td>\n",
       "      <td>5.0</td>\n",
       "      <td>12.83</td>\n",
       "      <td>Lakh</td>\n",
       "      <td>medium</td>\n",
       "    </tr>\n",
       "    <tr>\n",
       "      <th>2</th>\n",
       "      <td>Toyota</td>\n",
       "      <td>60343.0</td>\n",
       "      <td>Petrol</td>\n",
       "      <td>Automatic</td>\n",
       "      <td>1st Owner</td>\n",
       "      <td>2016.0</td>\n",
       "      <td>2494.0</td>\n",
       "      <td>5.0</td>\n",
       "      <td>16.40</td>\n",
       "      <td>Lakh</td>\n",
       "      <td>high</td>\n",
       "    </tr>\n",
       "    <tr>\n",
       "      <th>3</th>\n",
       "      <td>Honda</td>\n",
       "      <td>26696.0</td>\n",
       "      <td>Petrol</td>\n",
       "      <td>Automatic</td>\n",
       "      <td>1st Owner</td>\n",
       "      <td>2018.0</td>\n",
       "      <td>1199.0</td>\n",
       "      <td>5.0</td>\n",
       "      <td>7.77</td>\n",
       "      <td>Lakh</td>\n",
       "      <td>lower</td>\n",
       "    </tr>\n",
       "    <tr>\n",
       "      <th>4</th>\n",
       "      <td>Volkswagen</td>\n",
       "      <td>69414.0</td>\n",
       "      <td>Petrol</td>\n",
       "      <td>Manual</td>\n",
       "      <td>1st Owner</td>\n",
       "      <td>2016.0</td>\n",
       "      <td>1199.0</td>\n",
       "      <td>5.0</td>\n",
       "      <td>5.15</td>\n",
       "      <td>Lakh</td>\n",
       "      <td>lower</td>\n",
       "    </tr>\n",
       "  </tbody>\n",
       "</table>\n",
       "</div>"
      ],
      "text/plain": [
       "     car_name  kms_driven fuel_type transmission  ownership  manufacture  \\\n",
       "0        Jeep     86226.0    Diesel       Manual  1st Owner       2017.0   \n",
       "1     Renault     13248.0    Petrol    Automatic  1st Owner       2021.0   \n",
       "2      Toyota     60343.0    Petrol    Automatic  1st Owner       2016.0   \n",
       "3       Honda     26696.0    Petrol    Automatic  1st Owner       2018.0   \n",
       "4  Volkswagen     69414.0    Petrol       Manual  1st Owner       2016.0   \n",
       "\n",
       "   engine  Seats  price multiply engine_cat  \n",
       "0  1956.0    5.0  10.03     Lakh     medium  \n",
       "1  1330.0    5.0  12.83     Lakh     medium  \n",
       "2  2494.0    5.0  16.40     Lakh       high  \n",
       "3  1199.0    5.0   7.77     Lakh      lower  \n",
       "4  1199.0    5.0   5.15     Lakh      lower  "
      ]
     },
     "execution_count": 4,
     "metadata": {},
     "output_type": "execute_result"
    }
   ],
   "source": [
    "# Importa dataset: \n",
    "df = pd.read_csv('df.csv')\n",
    "df.head()"
   ]
  },
  {
   "cell_type": "code",
   "execution_count": 31,
   "id": "2046669a",
   "metadata": {},
   "outputs": [],
   "source": [
    "df['Seats'] = df.Seats.astype('object')"
   ]
  },
  {
   "cell_type": "code",
   "execution_count": 32,
   "id": "6536ca47",
   "metadata": {},
   "outputs": [],
   "source": [
    "# Seleção das variáveis atributo:\n",
    "atrib_var = ['kms_driven', 'fuel_type', 'transmission', 'ownership', 'engine_cat', 'Seats']\n",
    "alvo_var = ['price']\n",
    "features = df[atrib_var]\n",
    "target = df[alvo_var]"
   ]
  },
  {
   "cell_type": "code",
   "execution_count": 33,
   "id": "ea2adbc2",
   "metadata": {},
   "outputs": [],
   "source": [
    "# Separar dados de treino e teste\n",
    "X_treino, X_teste, Y_treino, Y_teste = train_test_split(features, \n",
    "                                                        target, \n",
    "                                                        test_size = 0.20)"
   ]
  },
  {
   "cell_type": "code",
   "execution_count": 43,
   "id": "d9d33e45",
   "metadata": {},
   "outputs": [],
   "source": [
    "# Pipeline para pré-processamento das variáveis: \n",
    "atributo_num = ['kms_driven']\n",
    "atributo_char = ['fuel_type', 'transmission', 'ownership', 'engine_cat', 'Seats']\n",
    "\n",
    "\n",
    "full_pipeline = ColumnTransformer([\n",
    "    ('num', MinMaxScaler(), atributo_num),\n",
    "    ('cat', OneHotEncoder(), atributo_char),\n",
    "])"
   ]
  },
  {
   "cell_type": "code",
   "execution_count": 64,
   "id": "ea914358",
   "metadata": {},
   "outputs": [],
   "source": [
    "# Pré-processando os dados de treino:\n",
    "X_treino_prep = full_pipeline.fit_transform(X_treino)\n",
    "X_teste_prep = full_pipeline.fit_transform(X_teste)"
   ]
  },
  {
   "cell_type": "code",
   "execution_count": 49,
   "id": "c489b260",
   "metadata": {},
   "outputs": [
    {
     "data": {
      "text/plain": [
       "LinearRegression()"
      ]
     },
     "execution_count": 49,
     "metadata": {},
     "output_type": "execute_result"
    }
   ],
   "source": [
    "# Criando e treinando o modelo de regressão\n",
    "model_lin_reg2 = LinearRegression()\n",
    "model_lin_reg2.fit(X_treino_prep, Y_treino)"
   ]
  },
  {
   "cell_type": "code",
   "execution_count": 52,
   "id": "e0afdcfd",
   "metadata": {},
   "outputs": [
    {
     "data": {
      "text/plain": [
       "13.91300458752021"
      ]
     },
     "execution_count": 52,
     "metadata": {},
     "output_type": "execute_result"
    }
   ],
   "source": [
    "# Calculando o RMSE (Root Mean Square Error) do modelo\n",
    "from sklearn.metrics import mean_squared_error\n",
    "\n",
    "price_predictions = model_lin_reg2.predict(X_teste_prep)\n",
    "lin_mse = mean_squared_error(Y_teste, price_predictions)\n",
    "lin_rmse = np.sqrt(lin_mse)\n",
    "lin_rmse"
   ]
  },
  {
   "cell_type": "code",
   "execution_count": 74,
   "id": "0dd5a8b2",
   "metadata": {},
   "outputs": [
    {
     "name": "stdout",
     "output_type": "stream",
     "text": [
      "Coeficientes: \n",
      " [[-10.31969739   1.21054749   2.46274405  -7.06129152   3.60568531\n",
      "   -0.21768534   2.43893981  -2.43893981  -5.2682167    2.01690221\n",
      "    1.16693568   0.65215807   0.72285287   0.70936788   0.89327443\n",
      "   -1.05771332   0.16443889   9.60921722   0.69352103  -2.92175284\n",
      "   -0.93977842  -1.67887627  -4.76233073]]\n"
     ]
    }
   ],
   "source": [
    "print('Coeficientes: \\n', model_lin_reg2.coef_)"
   ]
  },
  {
   "cell_type": "code",
   "execution_count": null,
   "id": "2ae014bc",
   "metadata": {},
   "outputs": [],
   "source": []
  },
  {
   "cell_type": "code",
   "execution_count": 135,
   "id": "b27e5129",
   "metadata": {},
   "outputs": [
    {
     "name": "stdout",
     "output_type": "stream",
     "text": [
      "<class 'pandas.core.frame.DataFrame'>\n",
      "RangeIndex: 5250 entries, 0 to 5249\n",
      "Data columns (total 11 columns):\n",
      " #   Column        Non-Null Count  Dtype  \n",
      "---  ------        --------------  -----  \n",
      " 0   car_name      5250 non-null   object \n",
      " 1   kms_driven    5250 non-null   float64\n",
      " 2   fuel_type     5250 non-null   object \n",
      " 3   transmission  5250 non-null   object \n",
      " 4   ownership     5250 non-null   object \n",
      " 5   manufacture   5250 non-null   float64\n",
      " 6   engine        5250 non-null   float64\n",
      " 7   Seats         5250 non-null   object \n",
      " 8   price         5250 non-null   float64\n",
      " 9   multiply      5250 non-null   object \n",
      " 10  engine_cat    5250 non-null   object \n",
      "dtypes: float64(4), object(7)\n",
      "memory usage: 451.3+ KB\n"
     ]
    }
   ],
   "source": [
    "df.info()"
   ]
  },
  {
   "cell_type": "code",
   "execution_count": 137,
   "id": "af6ec145",
   "metadata": {},
   "outputs": [
    {
     "data": {
      "text/plain": [
       "array([ 0,  1,  2, ..., 23, 12, 12])"
      ]
     },
     "execution_count": 137,
     "metadata": {},
     "output_type": "execute_result"
    }
   ],
   "source": [
    "pd.factorize(df.car_name)[0]"
   ]
  },
  {
   "cell_type": "code",
   "execution_count": null,
   "id": "48a6139f",
   "metadata": {},
   "outputs": [],
   "source": [
    "\n"
   ]
  },
  {
   "cell_type": "code",
   "execution_count": null,
   "id": "990026e2",
   "metadata": {},
   "outputs": [],
   "source": []
  },
  {
   "cell_type": "code",
   "execution_count": null,
   "id": "d283b08b",
   "metadata": {},
   "outputs": [],
   "source": []
  },
  {
   "cell_type": "code",
   "execution_count": null,
   "id": "a95d2d05",
   "metadata": {},
   "outputs": [],
   "source": []
  },
  {
   "cell_type": "code",
   "execution_count": null,
   "id": "edd712fb",
   "metadata": {},
   "outputs": [],
   "source": []
  }
 ],
 "metadata": {
  "kernelspec": {
   "display_name": "Python 3 (ipykernel)",
   "language": "python",
   "name": "python3"
  },
  "language_info": {
   "codemirror_mode": {
    "name": "ipython",
    "version": 3
   },
   "file_extension": ".py",
   "mimetype": "text/x-python",
   "name": "python",
   "nbconvert_exporter": "python",
   "pygments_lexer": "ipython3",
   "version": "3.9.12"
  }
 },
 "nbformat": 4,
 "nbformat_minor": 5
}
