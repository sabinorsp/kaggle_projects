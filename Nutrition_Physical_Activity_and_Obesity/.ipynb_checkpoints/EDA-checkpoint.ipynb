{
 "cells": [
  {
   "cell_type": "markdown",
   "id": "2d354fec",
   "metadata": {},
   "source": [
    "# Nutrition, Physical Activity, and Obesity\n",
    "The referente for source data is: [Nutrition...](https://www.kaggle.com/datasets/mattop/nutrition-physical-activity-and-obesity), [Original source data](https://catalog.data.gov/dataset/nutrition-physical-activity-and-obesity-behavioral-risk-factor-surveillance-system) \n",
    "\n",
    "[Data Dictionary](https://chronicdata.cdc.gov/Nutrition-Physical-Activity-and-Obesity/Nutrition-Physical-Activity-and-Obesity-Behavioral/hn4x-zwk7)\n",
    "\n",
    "This dataset includes data on adult's diet, physical activity, and weight status.\n",
    "\n",
    "This dataset includes data on adult's diet, physical activity, and weight status from Behavioral Risk Factor Surveillance System. This data is used for DNPAO's Data, Trends, and Maps database, which provides national and state specific data on obesity, nutrition, physical activity, and breastfeeding.\n"
   ]
  },
  {
   "cell_type": "markdown",
   "id": "bf414424",
   "metadata": {},
   "source": [
    "\n"
   ]
  },
  {
   "cell_type": "markdown",
   "id": "b2fad3fc",
   "metadata": {},
   "source": [
    "# 1 - Load the data and first analysis about the variables"
   ]
  },
  {
   "cell_type": "code",
   "execution_count": 1,
   "id": "f584c5dc",
   "metadata": {},
   "outputs": [],
   "source": [
    "# Load packages: \n",
    "import pandas as pd\n",
    "import numpy as np\n",
    "import matplotlib.pyplot as plt\n",
    "import seaborn as sns\n",
    "import scipy.stats as stats\n",
    "\n",
    "from sklearn.neighbors import NearestNeighbors"
   ]
  },
  {
   "cell_type": "code",
   "execution_count": 2,
   "id": "c8c35c22",
   "metadata": {},
   "outputs": [],
   "source": [
    "# Geral configs:\n",
    "plt.style.use('bmh')"
   ]
  },
  {
   "cell_type": "code",
   "execution_count": 3,
   "id": "1ca4eb6f",
   "metadata": {},
   "outputs": [],
   "source": [
    "data = pd.read_csv('data/Nutrition__Physical_Activity__and_Obesity.csv')\n",
    "#For up on kaggle:\n",
    "#pd.read_csv('/kaggle/input/nutrition-physical-activity-and-obesity/Nutrition__Physical_Activity__and_Obesity.csv')"
   ]
  },
  {
   "cell_type": "code",
   "execution_count": 4,
   "id": "9c7a7fca",
   "metadata": {},
   "outputs": [
    {
     "data": {
      "text/html": [
       "<div>\n",
       "<style scoped>\n",
       "    .dataframe tbody tr th:only-of-type {\n",
       "        vertical-align: middle;\n",
       "    }\n",
       "\n",
       "    .dataframe tbody tr th {\n",
       "        vertical-align: top;\n",
       "    }\n",
       "\n",
       "    .dataframe thead th {\n",
       "        text-align: right;\n",
       "    }\n",
       "</style>\n",
       "<table border=\"1\" class=\"dataframe\">\n",
       "  <thead>\n",
       "    <tr style=\"text-align: right;\">\n",
       "      <th></th>\n",
       "      <th>YearStart</th>\n",
       "      <th>YearEnd</th>\n",
       "      <th>LocationAbbr</th>\n",
       "      <th>LocationDesc</th>\n",
       "      <th>Datasource</th>\n",
       "      <th>Class</th>\n",
       "      <th>Topic</th>\n",
       "      <th>Question</th>\n",
       "      <th>Data_Value_Unit</th>\n",
       "      <th>Data_Value_Type</th>\n",
       "      <th>...</th>\n",
       "      <th>GeoLocation</th>\n",
       "      <th>ClassID</th>\n",
       "      <th>TopicID</th>\n",
       "      <th>QuestionID</th>\n",
       "      <th>DataValueTypeID</th>\n",
       "      <th>LocationID</th>\n",
       "      <th>StratificationCategory1</th>\n",
       "      <th>Stratification1</th>\n",
       "      <th>StratificationCategoryId1</th>\n",
       "      <th>StratificationID1</th>\n",
       "    </tr>\n",
       "  </thead>\n",
       "  <tbody>\n",
       "    <tr>\n",
       "      <th>0</th>\n",
       "      <td>2020</td>\n",
       "      <td>2020</td>\n",
       "      <td>US</td>\n",
       "      <td>National</td>\n",
       "      <td>Behavioral Risk Factor Surveillance System</td>\n",
       "      <td>Physical Activity</td>\n",
       "      <td>Physical Activity - Behavior</td>\n",
       "      <td>Percent of adults who engage in no leisure-tim...</td>\n",
       "      <td>NaN</td>\n",
       "      <td>Value</td>\n",
       "      <td>...</td>\n",
       "      <td>NaN</td>\n",
       "      <td>PA</td>\n",
       "      <td>PA1</td>\n",
       "      <td>Q047</td>\n",
       "      <td>VALUE</td>\n",
       "      <td>59</td>\n",
       "      <td>Race/Ethnicity</td>\n",
       "      <td>Hispanic</td>\n",
       "      <td>RACE</td>\n",
       "      <td>RACEHIS</td>\n",
       "    </tr>\n",
       "    <tr>\n",
       "      <th>1</th>\n",
       "      <td>2014</td>\n",
       "      <td>2014</td>\n",
       "      <td>GU</td>\n",
       "      <td>Guam</td>\n",
       "      <td>Behavioral Risk Factor Surveillance System</td>\n",
       "      <td>Obesity / Weight Status</td>\n",
       "      <td>Obesity / Weight Status</td>\n",
       "      <td>Percent of adults aged 18 years and older who ...</td>\n",
       "      <td>NaN</td>\n",
       "      <td>Value</td>\n",
       "      <td>...</td>\n",
       "      <td>(13.444304, 144.793731)</td>\n",
       "      <td>OWS</td>\n",
       "      <td>OWS1</td>\n",
       "      <td>Q036</td>\n",
       "      <td>VALUE</td>\n",
       "      <td>66</td>\n",
       "      <td>Education</td>\n",
       "      <td>High school graduate</td>\n",
       "      <td>EDU</td>\n",
       "      <td>EDUHSGRAD</td>\n",
       "    </tr>\n",
       "    <tr>\n",
       "      <th>2</th>\n",
       "      <td>2013</td>\n",
       "      <td>2013</td>\n",
       "      <td>US</td>\n",
       "      <td>National</td>\n",
       "      <td>Behavioral Risk Factor Surveillance System</td>\n",
       "      <td>Obesity / Weight Status</td>\n",
       "      <td>Obesity / Weight Status</td>\n",
       "      <td>Percent of adults aged 18 years and older who ...</td>\n",
       "      <td>NaN</td>\n",
       "      <td>Value</td>\n",
       "      <td>...</td>\n",
       "      <td>NaN</td>\n",
       "      <td>OWS</td>\n",
       "      <td>OWS1</td>\n",
       "      <td>Q036</td>\n",
       "      <td>VALUE</td>\n",
       "      <td>59</td>\n",
       "      <td>Income</td>\n",
       "      <td>$50,000 - $74,999</td>\n",
       "      <td>INC</td>\n",
       "      <td>INC5075</td>\n",
       "    </tr>\n",
       "  </tbody>\n",
       "</table>\n",
       "<p>3 rows × 33 columns</p>\n",
       "</div>"
      ],
      "text/plain": [
       "   YearStart  YearEnd LocationAbbr LocationDesc  \\\n",
       "0       2020     2020           US     National   \n",
       "1       2014     2014           GU         Guam   \n",
       "2       2013     2013           US     National   \n",
       "\n",
       "                                   Datasource                    Class  \\\n",
       "0  Behavioral Risk Factor Surveillance System        Physical Activity   \n",
       "1  Behavioral Risk Factor Surveillance System  Obesity / Weight Status   \n",
       "2  Behavioral Risk Factor Surveillance System  Obesity / Weight Status   \n",
       "\n",
       "                          Topic  \\\n",
       "0  Physical Activity - Behavior   \n",
       "1       Obesity / Weight Status   \n",
       "2       Obesity / Weight Status   \n",
       "\n",
       "                                            Question  Data_Value_Unit  \\\n",
       "0  Percent of adults who engage in no leisure-tim...              NaN   \n",
       "1  Percent of adults aged 18 years and older who ...              NaN   \n",
       "2  Percent of adults aged 18 years and older who ...              NaN   \n",
       "\n",
       "  Data_Value_Type  ...              GeoLocation  ClassID TopicID QuestionID  \\\n",
       "0           Value  ...                      NaN       PA     PA1       Q047   \n",
       "1           Value  ...  (13.444304, 144.793731)      OWS    OWS1       Q036   \n",
       "2           Value  ...                      NaN      OWS    OWS1       Q036   \n",
       "\n",
       "   DataValueTypeID  LocationID  StratificationCategory1       Stratification1  \\\n",
       "0            VALUE          59           Race/Ethnicity              Hispanic   \n",
       "1            VALUE          66                Education  High school graduate   \n",
       "2            VALUE          59                   Income     $50,000 - $74,999   \n",
       "\n",
       "  StratificationCategoryId1 StratificationID1  \n",
       "0                      RACE           RACEHIS  \n",
       "1                       EDU         EDUHSGRAD  \n",
       "2                       INC           INC5075  \n",
       "\n",
       "[3 rows x 33 columns]"
      ]
     },
     "execution_count": 4,
     "metadata": {},
     "output_type": "execute_result"
    }
   ],
   "source": [
    "data.head(3)"
   ]
  },
  {
   "cell_type": "code",
   "execution_count": 5,
   "id": "1f41e642",
   "metadata": {},
   "outputs": [
    {
     "data": {
      "text/plain": [
       "Index(['YearStart', 'YearEnd', 'LocationAbbr', 'LocationDesc', 'Datasource',\n",
       "       'Class', 'Topic', 'Question', 'Data_Value_Unit', 'Data_Value_Type',\n",
       "       'Data_Value', 'Data_Value_Alt', 'Data_Value_Footnote_Symbol',\n",
       "       'Data_Value_Footnote', 'Low_Confidence_Limit', 'High_Confidence_Limit ',\n",
       "       'Sample_Size', 'Total', 'Age(years)', 'Education', 'Gender', 'Income',\n",
       "       'Race/Ethnicity', 'GeoLocation', 'ClassID', 'TopicID', 'QuestionID',\n",
       "       'DataValueTypeID', 'LocationID', 'StratificationCategory1',\n",
       "       'Stratification1', 'StratificationCategoryId1', 'StratificationID1'],\n",
       "      dtype='object')"
      ]
     },
     "execution_count": 5,
     "metadata": {},
     "output_type": "execute_result"
    }
   ],
   "source": [
    "# Verify all columns name and the shape of data:\n",
    "data.columns"
   ]
  },
  {
   "cell_type": "code",
   "execution_count": 6,
   "id": "5a958d7d",
   "metadata": {},
   "outputs": [
    {
     "data": {
      "text/plain": [
       "(88629, 33)"
      ]
     },
     "execution_count": 6,
     "metadata": {},
     "output_type": "execute_result"
    }
   ],
   "source": [
    "data.shape"
   ]
  },
  {
   "cell_type": "markdown",
   "id": "56d26290",
   "metadata": {},
   "source": [
    "Verify the values null about all columns:"
   ]
  },
  {
   "cell_type": "code",
   "execution_count": 7,
   "id": "90da5093",
   "metadata": {},
   "outputs": [
    {
     "data": {
      "text/html": [
       "<div>\n",
       "<style scoped>\n",
       "    .dataframe tbody tr th:only-of-type {\n",
       "        vertical-align: middle;\n",
       "    }\n",
       "\n",
       "    .dataframe tbody tr th {\n",
       "        vertical-align: top;\n",
       "    }\n",
       "\n",
       "    .dataframe thead th {\n",
       "        text-align: right;\n",
       "    }\n",
       "</style>\n",
       "<table border=\"1\" class=\"dataframe\">\n",
       "  <thead>\n",
       "    <tr style=\"text-align: right;\">\n",
       "      <th></th>\n",
       "      <th>Total Values null</th>\n",
       "      <th>%_weight</th>\n",
       "    </tr>\n",
       "  </thead>\n",
       "  <tbody>\n",
       "    <tr>\n",
       "      <th>YearStart</th>\n",
       "      <td>0</td>\n",
       "      <td>0.000000</td>\n",
       "    </tr>\n",
       "    <tr>\n",
       "      <th>YearEnd</th>\n",
       "      <td>0</td>\n",
       "      <td>0.000000</td>\n",
       "    </tr>\n",
       "    <tr>\n",
       "      <th>LocationAbbr</th>\n",
       "      <td>0</td>\n",
       "      <td>0.000000</td>\n",
       "    </tr>\n",
       "    <tr>\n",
       "      <th>LocationDesc</th>\n",
       "      <td>0</td>\n",
       "      <td>0.000000</td>\n",
       "    </tr>\n",
       "    <tr>\n",
       "      <th>Datasource</th>\n",
       "      <td>0</td>\n",
       "      <td>0.000000</td>\n",
       "    </tr>\n",
       "    <tr>\n",
       "      <th>Class</th>\n",
       "      <td>0</td>\n",
       "      <td>0.000000</td>\n",
       "    </tr>\n",
       "    <tr>\n",
       "      <th>Topic</th>\n",
       "      <td>0</td>\n",
       "      <td>0.000000</td>\n",
       "    </tr>\n",
       "    <tr>\n",
       "      <th>Question</th>\n",
       "      <td>0</td>\n",
       "      <td>0.000000</td>\n",
       "    </tr>\n",
       "    <tr>\n",
       "      <th>Data_Value_Unit</th>\n",
       "      <td>88629</td>\n",
       "      <td>100.000000</td>\n",
       "    </tr>\n",
       "    <tr>\n",
       "      <th>Data_Value_Type</th>\n",
       "      <td>0</td>\n",
       "      <td>0.000000</td>\n",
       "    </tr>\n",
       "    <tr>\n",
       "      <th>Data_Value</th>\n",
       "      <td>8778</td>\n",
       "      <td>9.904207</td>\n",
       "    </tr>\n",
       "    <tr>\n",
       "      <th>Data_Value_Alt</th>\n",
       "      <td>8778</td>\n",
       "      <td>9.904207</td>\n",
       "    </tr>\n",
       "    <tr>\n",
       "      <th>Data_Value_Footnote_Symbol</th>\n",
       "      <td>79851</td>\n",
       "      <td>90.095793</td>\n",
       "    </tr>\n",
       "    <tr>\n",
       "      <th>Data_Value_Footnote</th>\n",
       "      <td>79851</td>\n",
       "      <td>90.095793</td>\n",
       "    </tr>\n",
       "    <tr>\n",
       "      <th>Low_Confidence_Limit</th>\n",
       "      <td>8778</td>\n",
       "      <td>9.904207</td>\n",
       "    </tr>\n",
       "    <tr>\n",
       "      <th>High_Confidence_Limit</th>\n",
       "      <td>8778</td>\n",
       "      <td>9.904207</td>\n",
       "    </tr>\n",
       "    <tr>\n",
       "      <th>Sample_Size</th>\n",
       "      <td>8778</td>\n",
       "      <td>9.904207</td>\n",
       "    </tr>\n",
       "    <tr>\n",
       "      <th>Total</th>\n",
       "      <td>85464</td>\n",
       "      <td>96.428934</td>\n",
       "    </tr>\n",
       "    <tr>\n",
       "      <th>Age(years)</th>\n",
       "      <td>69639</td>\n",
       "      <td>78.573605</td>\n",
       "    </tr>\n",
       "    <tr>\n",
       "      <th>Education</th>\n",
       "      <td>75969</td>\n",
       "      <td>85.715736</td>\n",
       "    </tr>\n",
       "    <tr>\n",
       "      <th>Gender</th>\n",
       "      <td>82299</td>\n",
       "      <td>92.857868</td>\n",
       "    </tr>\n",
       "    <tr>\n",
       "      <th>Income</th>\n",
       "      <td>66474</td>\n",
       "      <td>75.002539</td>\n",
       "    </tr>\n",
       "    <tr>\n",
       "      <th>Race/Ethnicity</th>\n",
       "      <td>63309</td>\n",
       "      <td>71.431473</td>\n",
       "    </tr>\n",
       "    <tr>\n",
       "      <th>GeoLocation</th>\n",
       "      <td>1652</td>\n",
       "      <td>1.863950</td>\n",
       "    </tr>\n",
       "    <tr>\n",
       "      <th>ClassID</th>\n",
       "      <td>0</td>\n",
       "      <td>0.000000</td>\n",
       "    </tr>\n",
       "    <tr>\n",
       "      <th>TopicID</th>\n",
       "      <td>0</td>\n",
       "      <td>0.000000</td>\n",
       "    </tr>\n",
       "    <tr>\n",
       "      <th>QuestionID</th>\n",
       "      <td>0</td>\n",
       "      <td>0.000000</td>\n",
       "    </tr>\n",
       "    <tr>\n",
       "      <th>DataValueTypeID</th>\n",
       "      <td>0</td>\n",
       "      <td>0.000000</td>\n",
       "    </tr>\n",
       "    <tr>\n",
       "      <th>LocationID</th>\n",
       "      <td>0</td>\n",
       "      <td>0.000000</td>\n",
       "    </tr>\n",
       "    <tr>\n",
       "      <th>StratificationCategory1</th>\n",
       "      <td>9</td>\n",
       "      <td>0.010155</td>\n",
       "    </tr>\n",
       "    <tr>\n",
       "      <th>Stratification1</th>\n",
       "      <td>9</td>\n",
       "      <td>0.010155</td>\n",
       "    </tr>\n",
       "    <tr>\n",
       "      <th>StratificationCategoryId1</th>\n",
       "      <td>9</td>\n",
       "      <td>0.010155</td>\n",
       "    </tr>\n",
       "    <tr>\n",
       "      <th>StratificationID1</th>\n",
       "      <td>9</td>\n",
       "      <td>0.010155</td>\n",
       "    </tr>\n",
       "  </tbody>\n",
       "</table>\n",
       "</div>"
      ],
      "text/plain": [
       "                            Total Values null    %_weight\n",
       "YearStart                                   0    0.000000\n",
       "YearEnd                                     0    0.000000\n",
       "LocationAbbr                                0    0.000000\n",
       "LocationDesc                                0    0.000000\n",
       "Datasource                                  0    0.000000\n",
       "Class                                       0    0.000000\n",
       "Topic                                       0    0.000000\n",
       "Question                                    0    0.000000\n",
       "Data_Value_Unit                         88629  100.000000\n",
       "Data_Value_Type                             0    0.000000\n",
       "Data_Value                               8778    9.904207\n",
       "Data_Value_Alt                           8778    9.904207\n",
       "Data_Value_Footnote_Symbol              79851   90.095793\n",
       "Data_Value_Footnote                     79851   90.095793\n",
       "Low_Confidence_Limit                     8778    9.904207\n",
       "High_Confidence_Limit                    8778    9.904207\n",
       "Sample_Size                              8778    9.904207\n",
       "Total                                   85464   96.428934\n",
       "Age(years)                              69639   78.573605\n",
       "Education                               75969   85.715736\n",
       "Gender                                  82299   92.857868\n",
       "Income                                  66474   75.002539\n",
       "Race/Ethnicity                          63309   71.431473\n",
       "GeoLocation                              1652    1.863950\n",
       "ClassID                                     0    0.000000\n",
       "TopicID                                     0    0.000000\n",
       "QuestionID                                  0    0.000000\n",
       "DataValueTypeID                             0    0.000000\n",
       "LocationID                                  0    0.000000\n",
       "StratificationCategory1                     9    0.010155\n",
       "Stratification1                             9    0.010155\n",
       "StratificationCategoryId1                   9    0.010155\n",
       "StratificationID1                           9    0.010155"
      ]
     },
     "execution_count": 7,
     "metadata": {},
     "output_type": "execute_result"
    }
   ],
   "source": [
    "na_values = pd.DataFrame(data.isna().sum(), columns=['Total Values null'])\n",
    "na_values['%_weight'] = na_values['Total Values null'].apply(lambda x: x/data.shape[0]*100)\n",
    "na_values"
   ]
  },
  {
   "cell_type": "markdown",
   "id": "03e2ac2e",
   "metadata": {},
   "source": [
    "Here we can drop the variable that contain more than 50% loss values, because this is not be representative. The variables with contain others null values will be treated."
   ]
  },
  {
   "cell_type": "markdown",
   "id": "d6e822d9",
   "metadata": {},
   "source": [
    "List the columns to be drop:"
   ]
  },
  {
   "cell_type": "code",
   "execution_count": 8,
   "id": "260c7723",
   "metadata": {},
   "outputs": [
    {
     "data": {
      "text/html": [
       "<div>\n",
       "<style scoped>\n",
       "    .dataframe tbody tr th:only-of-type {\n",
       "        vertical-align: middle;\n",
       "    }\n",
       "\n",
       "    .dataframe tbody tr th {\n",
       "        vertical-align: top;\n",
       "    }\n",
       "\n",
       "    .dataframe thead th {\n",
       "        text-align: right;\n",
       "    }\n",
       "</style>\n",
       "<table border=\"1\" class=\"dataframe\">\n",
       "  <thead>\n",
       "    <tr style=\"text-align: right;\">\n",
       "      <th></th>\n",
       "      <th>Total Values null</th>\n",
       "      <th>%_weight</th>\n",
       "    </tr>\n",
       "  </thead>\n",
       "  <tbody>\n",
       "    <tr>\n",
       "      <th>Data_Value_Unit</th>\n",
       "      <td>88629</td>\n",
       "      <td>100.000000</td>\n",
       "    </tr>\n",
       "    <tr>\n",
       "      <th>Data_Value_Footnote_Symbol</th>\n",
       "      <td>79851</td>\n",
       "      <td>90.095793</td>\n",
       "    </tr>\n",
       "    <tr>\n",
       "      <th>Data_Value_Footnote</th>\n",
       "      <td>79851</td>\n",
       "      <td>90.095793</td>\n",
       "    </tr>\n",
       "    <tr>\n",
       "      <th>Total</th>\n",
       "      <td>85464</td>\n",
       "      <td>96.428934</td>\n",
       "    </tr>\n",
       "    <tr>\n",
       "      <th>Age(years)</th>\n",
       "      <td>69639</td>\n",
       "      <td>78.573605</td>\n",
       "    </tr>\n",
       "    <tr>\n",
       "      <th>Education</th>\n",
       "      <td>75969</td>\n",
       "      <td>85.715736</td>\n",
       "    </tr>\n",
       "    <tr>\n",
       "      <th>Gender</th>\n",
       "      <td>82299</td>\n",
       "      <td>92.857868</td>\n",
       "    </tr>\n",
       "    <tr>\n",
       "      <th>Income</th>\n",
       "      <td>66474</td>\n",
       "      <td>75.002539</td>\n",
       "    </tr>\n",
       "    <tr>\n",
       "      <th>Race/Ethnicity</th>\n",
       "      <td>63309</td>\n",
       "      <td>71.431473</td>\n",
       "    </tr>\n",
       "  </tbody>\n",
       "</table>\n",
       "</div>"
      ],
      "text/plain": [
       "                            Total Values null    %_weight\n",
       "Data_Value_Unit                         88629  100.000000\n",
       "Data_Value_Footnote_Symbol              79851   90.095793\n",
       "Data_Value_Footnote                     79851   90.095793\n",
       "Total                                   85464   96.428934\n",
       "Age(years)                              69639   78.573605\n",
       "Education                               75969   85.715736\n",
       "Gender                                  82299   92.857868\n",
       "Income                                  66474   75.002539\n",
       "Race/Ethnicity                          63309   71.431473"
      ]
     },
     "execution_count": 8,
     "metadata": {},
     "output_type": "execute_result"
    }
   ],
   "source": [
    "drop_na_columns = na_values.loc[na_values['%_weight'] > 50]\n",
    "drop_na_columns"
   ]
  },
  {
   "cell_type": "code",
   "execution_count": 9,
   "id": "486354f1",
   "metadata": {
    "scrolled": true
   },
   "outputs": [
    {
     "data": {
      "text/plain": [
       "array(['Data_Value_Unit', 'Data_Value_Footnote_Symbol',\n",
       "       'Data_Value_Footnote', 'Total', 'Age(years)', 'Education',\n",
       "       'Gender', 'Income', 'Race/Ethnicity'], dtype=object)"
      ]
     },
     "execution_count": 9,
     "metadata": {},
     "output_type": "execute_result"
    }
   ],
   "source": [
    "drop_na_columns.index.values"
   ]
  },
  {
   "cell_type": "code",
   "execution_count": 10,
   "id": "a7e1e2e3",
   "metadata": {},
   "outputs": [
    {
     "data": {
      "text/html": [
       "<div>\n",
       "<style scoped>\n",
       "    .dataframe tbody tr th:only-of-type {\n",
       "        vertical-align: middle;\n",
       "    }\n",
       "\n",
       "    .dataframe tbody tr th {\n",
       "        vertical-align: top;\n",
       "    }\n",
       "\n",
       "    .dataframe thead th {\n",
       "        text-align: right;\n",
       "    }\n",
       "</style>\n",
       "<table border=\"1\" class=\"dataframe\">\n",
       "  <thead>\n",
       "    <tr style=\"text-align: right;\">\n",
       "      <th></th>\n",
       "      <th>YearStart</th>\n",
       "      <th>YearEnd</th>\n",
       "      <th>LocationAbbr</th>\n",
       "      <th>LocationDesc</th>\n",
       "      <th>Datasource</th>\n",
       "      <th>Class</th>\n",
       "      <th>Topic</th>\n",
       "      <th>Question</th>\n",
       "      <th>Data_Value_Type</th>\n",
       "      <th>Data_Value</th>\n",
       "      <th>...</th>\n",
       "      <th>GeoLocation</th>\n",
       "      <th>ClassID</th>\n",
       "      <th>TopicID</th>\n",
       "      <th>QuestionID</th>\n",
       "      <th>DataValueTypeID</th>\n",
       "      <th>LocationID</th>\n",
       "      <th>StratificationCategory1</th>\n",
       "      <th>Stratification1</th>\n",
       "      <th>StratificationCategoryId1</th>\n",
       "      <th>StratificationID1</th>\n",
       "    </tr>\n",
       "  </thead>\n",
       "  <tbody>\n",
       "    <tr>\n",
       "      <th>0</th>\n",
       "      <td>2020</td>\n",
       "      <td>2020</td>\n",
       "      <td>US</td>\n",
       "      <td>National</td>\n",
       "      <td>Behavioral Risk Factor Surveillance System</td>\n",
       "      <td>Physical Activity</td>\n",
       "      <td>Physical Activity - Behavior</td>\n",
       "      <td>Percent of adults who engage in no leisure-tim...</td>\n",
       "      <td>Value</td>\n",
       "      <td>30.6</td>\n",
       "      <td>...</td>\n",
       "      <td>NaN</td>\n",
       "      <td>PA</td>\n",
       "      <td>PA1</td>\n",
       "      <td>Q047</td>\n",
       "      <td>VALUE</td>\n",
       "      <td>59</td>\n",
       "      <td>Race/Ethnicity</td>\n",
       "      <td>Hispanic</td>\n",
       "      <td>RACE</td>\n",
       "      <td>RACEHIS</td>\n",
       "    </tr>\n",
       "    <tr>\n",
       "      <th>1</th>\n",
       "      <td>2014</td>\n",
       "      <td>2014</td>\n",
       "      <td>GU</td>\n",
       "      <td>Guam</td>\n",
       "      <td>Behavioral Risk Factor Surveillance System</td>\n",
       "      <td>Obesity / Weight Status</td>\n",
       "      <td>Obesity / Weight Status</td>\n",
       "      <td>Percent of adults aged 18 years and older who ...</td>\n",
       "      <td>Value</td>\n",
       "      <td>29.3</td>\n",
       "      <td>...</td>\n",
       "      <td>(13.444304, 144.793731)</td>\n",
       "      <td>OWS</td>\n",
       "      <td>OWS1</td>\n",
       "      <td>Q036</td>\n",
       "      <td>VALUE</td>\n",
       "      <td>66</td>\n",
       "      <td>Education</td>\n",
       "      <td>High school graduate</td>\n",
       "      <td>EDU</td>\n",
       "      <td>EDUHSGRAD</td>\n",
       "    </tr>\n",
       "  </tbody>\n",
       "</table>\n",
       "<p>2 rows × 24 columns</p>\n",
       "</div>"
      ],
      "text/plain": [
       "   YearStart  YearEnd LocationAbbr LocationDesc  \\\n",
       "0       2020     2020           US     National   \n",
       "1       2014     2014           GU         Guam   \n",
       "\n",
       "                                   Datasource                    Class  \\\n",
       "0  Behavioral Risk Factor Surveillance System        Physical Activity   \n",
       "1  Behavioral Risk Factor Surveillance System  Obesity / Weight Status   \n",
       "\n",
       "                          Topic  \\\n",
       "0  Physical Activity - Behavior   \n",
       "1       Obesity / Weight Status   \n",
       "\n",
       "                                            Question Data_Value_Type  \\\n",
       "0  Percent of adults who engage in no leisure-tim...           Value   \n",
       "1  Percent of adults aged 18 years and older who ...           Value   \n",
       "\n",
       "   Data_Value  ...              GeoLocation  ClassID  TopicID  QuestionID  \\\n",
       "0        30.6  ...                      NaN       PA      PA1        Q047   \n",
       "1        29.3  ...  (13.444304, 144.793731)      OWS     OWS1        Q036   \n",
       "\n",
       "  DataValueTypeID LocationID StratificationCategory1       Stratification1  \\\n",
       "0           VALUE         59          Race/Ethnicity              Hispanic   \n",
       "1           VALUE         66               Education  High school graduate   \n",
       "\n",
       "  StratificationCategoryId1  StratificationID1  \n",
       "0                      RACE            RACEHIS  \n",
       "1                       EDU          EDUHSGRAD  \n",
       "\n",
       "[2 rows x 24 columns]"
      ]
     },
     "execution_count": 10,
     "metadata": {},
     "output_type": "execute_result"
    }
   ],
   "source": [
    "data1 = data.drop(drop_na_columns.index.values, axis=1)\n",
    "data1.head(2)"
   ]
  },
  {
   "cell_type": "code",
   "execution_count": 11,
   "id": "2002a493",
   "metadata": {
    "scrolled": true
   },
   "outputs": [
    {
     "name": "stdout",
     "output_type": "stream",
     "text": [
      "<class 'pandas.core.frame.DataFrame'>\n",
      "RangeIndex: 88629 entries, 0 to 88628\n",
      "Data columns (total 24 columns):\n",
      " #   Column                     Non-Null Count  Dtype  \n",
      "---  ------                     --------------  -----  \n",
      " 0   YearStart                  88629 non-null  int64  \n",
      " 1   YearEnd                    88629 non-null  int64  \n",
      " 2   LocationAbbr               88629 non-null  object \n",
      " 3   LocationDesc               88629 non-null  object \n",
      " 4   Datasource                 88629 non-null  object \n",
      " 5   Class                      88629 non-null  object \n",
      " 6   Topic                      88629 non-null  object \n",
      " 7   Question                   88629 non-null  object \n",
      " 8   Data_Value_Type            88629 non-null  object \n",
      " 9   Data_Value                 79851 non-null  float64\n",
      " 10  Data_Value_Alt             79851 non-null  float64\n",
      " 11  Low_Confidence_Limit       79851 non-null  float64\n",
      " 12  High_Confidence_Limit      79851 non-null  float64\n",
      " 13  Sample_Size                79851 non-null  float64\n",
      " 14  GeoLocation                86977 non-null  object \n",
      " 15  ClassID                    88629 non-null  object \n",
      " 16  TopicID                    88629 non-null  object \n",
      " 17  QuestionID                 88629 non-null  object \n",
      " 18  DataValueTypeID            88629 non-null  object \n",
      " 19  LocationID                 88629 non-null  int64  \n",
      " 20  StratificationCategory1    88620 non-null  object \n",
      " 21  Stratification1            88620 non-null  object \n",
      " 22  StratificationCategoryId1  88620 non-null  object \n",
      " 23  StratificationID1          88620 non-null  object \n",
      "dtypes: float64(5), int64(3), object(16)\n",
      "memory usage: 16.2+ MB\n"
     ]
    }
   ],
   "source": [
    "data1.info()"
   ]
  },
  {
   "cell_type": "code",
   "execution_count": 12,
   "id": "53b79f57",
   "metadata": {},
   "outputs": [
    {
     "data": {
      "text/plain": [
       "0"
      ]
     },
     "execution_count": 12,
     "metadata": {},
     "output_type": "execute_result"
    }
   ],
   "source": [
    "# Verify duplicated values : \n",
    "data1.duplicated().sum()"
   ]
  },
  {
   "cell_type": "markdown",
   "id": "dfcbeb77",
   "metadata": {},
   "source": [
    "The new dataframe was created in data1 for preserve the integrity about the original data in \"data\". The all values with contain null more than 50% was removed, and put a reforce check in data.info() and verify if this new dataframe was some type about duplicate data. "
   ]
  },
  {
   "cell_type": "code",
   "execution_count": 13,
   "id": "20c4cb7e",
   "metadata": {},
   "outputs": [
    {
     "data": {
      "text/plain": [
       "0"
      ]
     },
     "execution_count": 13,
     "metadata": {},
     "output_type": "execute_result"
    }
   ],
   "source": [
    "# Check the values in columns YearsStart and YearsEnd is equal in all observed registers: \n",
    "(data1.YearStart != data1.YearEnd).sum()"
   ]
  },
  {
   "cell_type": "markdown",
   "id": "723c398b",
   "metadata": {},
   "source": [
    "How we can observe above, the columns that represent Yearstart and YearEnd have the same values, and we can union in just one column, like \"Year_ref\"."
   ]
  },
  {
   "cell_type": "code",
   "execution_count": 14,
   "id": "0b4a8731",
   "metadata": {},
   "outputs": [],
   "source": [
    "# Transform the columns YearStart and YearEnd into one \"Year_ref\"\n",
    "data1.drop('YearEnd', axis=1, inplace=True)"
   ]
  },
  {
   "cell_type": "code",
   "execution_count": 15,
   "id": "b652d439",
   "metadata": {},
   "outputs": [],
   "source": [
    "data1.rename(columns={'YearStart': 'Year_ref'}, inplace=True)"
   ]
  },
  {
   "cell_type": "code",
   "execution_count": 16,
   "id": "feafaae7",
   "metadata": {
    "scrolled": true
   },
   "outputs": [
    {
     "data": {
      "text/html": [
       "<div>\n",
       "<style scoped>\n",
       "    .dataframe tbody tr th:only-of-type {\n",
       "        vertical-align: middle;\n",
       "    }\n",
       "\n",
       "    .dataframe tbody tr th {\n",
       "        vertical-align: top;\n",
       "    }\n",
       "\n",
       "    .dataframe thead th {\n",
       "        text-align: right;\n",
       "    }\n",
       "</style>\n",
       "<table border=\"1\" class=\"dataframe\">\n",
       "  <thead>\n",
       "    <tr style=\"text-align: right;\">\n",
       "      <th></th>\n",
       "      <th>Year_ref</th>\n",
       "      <th>LocationAbbr</th>\n",
       "      <th>LocationDesc</th>\n",
       "      <th>Datasource</th>\n",
       "      <th>Class</th>\n",
       "      <th>Topic</th>\n",
       "      <th>Question</th>\n",
       "      <th>Data_Value_Type</th>\n",
       "      <th>Data_Value</th>\n",
       "      <th>Data_Value_Alt</th>\n",
       "      <th>...</th>\n",
       "      <th>GeoLocation</th>\n",
       "      <th>ClassID</th>\n",
       "      <th>TopicID</th>\n",
       "      <th>QuestionID</th>\n",
       "      <th>DataValueTypeID</th>\n",
       "      <th>LocationID</th>\n",
       "      <th>StratificationCategory1</th>\n",
       "      <th>Stratification1</th>\n",
       "      <th>StratificationCategoryId1</th>\n",
       "      <th>StratificationID1</th>\n",
       "    </tr>\n",
       "  </thead>\n",
       "  <tbody>\n",
       "    <tr>\n",
       "      <th>0</th>\n",
       "      <td>2020</td>\n",
       "      <td>US</td>\n",
       "      <td>National</td>\n",
       "      <td>Behavioral Risk Factor Surveillance System</td>\n",
       "      <td>Physical Activity</td>\n",
       "      <td>Physical Activity - Behavior</td>\n",
       "      <td>Percent of adults who engage in no leisure-tim...</td>\n",
       "      <td>Value</td>\n",
       "      <td>30.6</td>\n",
       "      <td>30.6</td>\n",
       "      <td>...</td>\n",
       "      <td>NaN</td>\n",
       "      <td>PA</td>\n",
       "      <td>PA1</td>\n",
       "      <td>Q047</td>\n",
       "      <td>VALUE</td>\n",
       "      <td>59</td>\n",
       "      <td>Race/Ethnicity</td>\n",
       "      <td>Hispanic</td>\n",
       "      <td>RACE</td>\n",
       "      <td>RACEHIS</td>\n",
       "    </tr>\n",
       "    <tr>\n",
       "      <th>1</th>\n",
       "      <td>2014</td>\n",
       "      <td>GU</td>\n",
       "      <td>Guam</td>\n",
       "      <td>Behavioral Risk Factor Surveillance System</td>\n",
       "      <td>Obesity / Weight Status</td>\n",
       "      <td>Obesity / Weight Status</td>\n",
       "      <td>Percent of adults aged 18 years and older who ...</td>\n",
       "      <td>Value</td>\n",
       "      <td>29.3</td>\n",
       "      <td>29.3</td>\n",
       "      <td>...</td>\n",
       "      <td>(13.444304, 144.793731)</td>\n",
       "      <td>OWS</td>\n",
       "      <td>OWS1</td>\n",
       "      <td>Q036</td>\n",
       "      <td>VALUE</td>\n",
       "      <td>66</td>\n",
       "      <td>Education</td>\n",
       "      <td>High school graduate</td>\n",
       "      <td>EDU</td>\n",
       "      <td>EDUHSGRAD</td>\n",
       "    </tr>\n",
       "  </tbody>\n",
       "</table>\n",
       "<p>2 rows × 23 columns</p>\n",
       "</div>"
      ],
      "text/plain": [
       "   Year_ref LocationAbbr LocationDesc  \\\n",
       "0      2020           US     National   \n",
       "1      2014           GU         Guam   \n",
       "\n",
       "                                   Datasource                    Class  \\\n",
       "0  Behavioral Risk Factor Surveillance System        Physical Activity   \n",
       "1  Behavioral Risk Factor Surveillance System  Obesity / Weight Status   \n",
       "\n",
       "                          Topic  \\\n",
       "0  Physical Activity - Behavior   \n",
       "1       Obesity / Weight Status   \n",
       "\n",
       "                                            Question Data_Value_Type  \\\n",
       "0  Percent of adults who engage in no leisure-tim...           Value   \n",
       "1  Percent of adults aged 18 years and older who ...           Value   \n",
       "\n",
       "   Data_Value  Data_Value_Alt  ...              GeoLocation  ClassID  TopicID  \\\n",
       "0        30.6            30.6  ...                      NaN       PA      PA1   \n",
       "1        29.3            29.3  ...  (13.444304, 144.793731)      OWS     OWS1   \n",
       "\n",
       "  QuestionID DataValueTypeID LocationID StratificationCategory1  \\\n",
       "0       Q047           VALUE         59          Race/Ethnicity   \n",
       "1       Q036           VALUE         66               Education   \n",
       "\n",
       "        Stratification1  StratificationCategoryId1 StratificationID1  \n",
       "0              Hispanic                       RACE           RACEHIS  \n",
       "1  High school graduate                        EDU         EDUHSGRAD  \n",
       "\n",
       "[2 rows x 23 columns]"
      ]
     },
     "execution_count": 16,
     "metadata": {},
     "output_type": "execute_result"
    }
   ],
   "source": [
    "data1.head(2)"
   ]
  },
  {
   "cell_type": "markdown",
   "id": "527d862c",
   "metadata": {},
   "source": [
    "# 2. second part about EDA: Formulation Questions and Hypotheses"
   ]
  },
  {
   "cell_type": "markdown",
   "id": "eafeeb7a",
   "metadata": {},
   "source": [
    "Check a sample about two first line for look in all variable and yours results:\n"
   ]
  },
  {
   "cell_type": "code",
   "execution_count": 17,
   "id": "c5e623e9",
   "metadata": {
    "scrolled": true
   },
   "outputs": [
    {
     "data": {
      "text/html": [
       "<div>\n",
       "<style scoped>\n",
       "    .dataframe tbody tr th:only-of-type {\n",
       "        vertical-align: middle;\n",
       "    }\n",
       "\n",
       "    .dataframe tbody tr th {\n",
       "        vertical-align: top;\n",
       "    }\n",
       "\n",
       "    .dataframe thead th {\n",
       "        text-align: right;\n",
       "    }\n",
       "</style>\n",
       "<table border=\"1\" class=\"dataframe\">\n",
       "  <thead>\n",
       "    <tr style=\"text-align: right;\">\n",
       "      <th></th>\n",
       "      <th>50090</th>\n",
       "      <th>4901</th>\n",
       "      <th>12993</th>\n",
       "      <th>48410</th>\n",
       "    </tr>\n",
       "  </thead>\n",
       "  <tbody>\n",
       "    <tr>\n",
       "      <th>Year_ref</th>\n",
       "      <td>2015</td>\n",
       "      <td>2018</td>\n",
       "      <td>2013</td>\n",
       "      <td>2019</td>\n",
       "    </tr>\n",
       "    <tr>\n",
       "      <th>LocationAbbr</th>\n",
       "      <td>HI</td>\n",
       "      <td>DE</td>\n",
       "      <td>US</td>\n",
       "      <td>DC</td>\n",
       "    </tr>\n",
       "    <tr>\n",
       "      <th>LocationDesc</th>\n",
       "      <td>Hawaii</td>\n",
       "      <td>Delaware</td>\n",
       "      <td>National</td>\n",
       "      <td>District of Columbia</td>\n",
       "    </tr>\n",
       "    <tr>\n",
       "      <th>Datasource</th>\n",
       "      <td>Behavioral Risk Factor Surveillance System</td>\n",
       "      <td>Behavioral Risk Factor Surveillance System</td>\n",
       "      <td>Behavioral Risk Factor Surveillance System</td>\n",
       "      <td>Behavioral Risk Factor Surveillance System</td>\n",
       "    </tr>\n",
       "    <tr>\n",
       "      <th>Class</th>\n",
       "      <td>Physical Activity</td>\n",
       "      <td>Physical Activity</td>\n",
       "      <td>Physical Activity</td>\n",
       "      <td>Obesity / Weight Status</td>\n",
       "    </tr>\n",
       "    <tr>\n",
       "      <th>Topic</th>\n",
       "      <td>Physical Activity - Behavior</td>\n",
       "      <td>Physical Activity - Behavior</td>\n",
       "      <td>Physical Activity - Behavior</td>\n",
       "      <td>Obesity / Weight Status</td>\n",
       "    </tr>\n",
       "    <tr>\n",
       "      <th>Question</th>\n",
       "      <td>Percent of adults who achieve at least 150 min...</td>\n",
       "      <td>Percent of adults who engage in no leisure-tim...</td>\n",
       "      <td>Percent of adults who achieve at least 150 min...</td>\n",
       "      <td>Percent of adults aged 18 years and older who ...</td>\n",
       "    </tr>\n",
       "    <tr>\n",
       "      <th>Data_Value_Type</th>\n",
       "      <td>Value</td>\n",
       "      <td>Value</td>\n",
       "      <td>Value</td>\n",
       "      <td>Value</td>\n",
       "    </tr>\n",
       "    <tr>\n",
       "      <th>Data_Value</th>\n",
       "      <td>48.3</td>\n",
       "      <td>13.1</td>\n",
       "      <td>20.2</td>\n",
       "      <td>16.7</td>\n",
       "    </tr>\n",
       "    <tr>\n",
       "      <th>Data_Value_Alt</th>\n",
       "      <td>48.3</td>\n",
       "      <td>13.1</td>\n",
       "      <td>20.2</td>\n",
       "      <td>16.7</td>\n",
       "    </tr>\n",
       "    <tr>\n",
       "      <th>Low_Confidence_Limit</th>\n",
       "      <td>42.1</td>\n",
       "      <td>11.0</td>\n",
       "      <td>18.5</td>\n",
       "      <td>12.2</td>\n",
       "    </tr>\n",
       "    <tr>\n",
       "      <th>High_Confidence_Limit</th>\n",
       "      <td>54.7</td>\n",
       "      <td>15.6</td>\n",
       "      <td>22.0</td>\n",
       "      <td>22.4</td>\n",
       "    </tr>\n",
       "    <tr>\n",
       "      <th>Sample_Size</th>\n",
       "      <td>566.0</td>\n",
       "      <td>1437.0</td>\n",
       "      <td>7678.0</td>\n",
       "      <td>251.0</td>\n",
       "    </tr>\n",
       "    <tr>\n",
       "      <th>GeoLocation</th>\n",
       "      <td>(21.304850435, -157.857749403)</td>\n",
       "      <td>(39.008830667000495, -75.57774116799965)</td>\n",
       "      <td>NaN</td>\n",
       "      <td>(38.89037138500049, -77.03196112699965)</td>\n",
       "    </tr>\n",
       "    <tr>\n",
       "      <th>ClassID</th>\n",
       "      <td>PA</td>\n",
       "      <td>PA</td>\n",
       "      <td>PA</td>\n",
       "      <td>OWS</td>\n",
       "    </tr>\n",
       "    <tr>\n",
       "      <th>TopicID</th>\n",
       "      <td>PA1</td>\n",
       "      <td>PA1</td>\n",
       "      <td>PA1</td>\n",
       "      <td>OWS1</td>\n",
       "    </tr>\n",
       "    <tr>\n",
       "      <th>QuestionID</th>\n",
       "      <td>Q043</td>\n",
       "      <td>Q047</td>\n",
       "      <td>Q044</td>\n",
       "      <td>Q036</td>\n",
       "    </tr>\n",
       "    <tr>\n",
       "      <th>DataValueTypeID</th>\n",
       "      <td>VALUE</td>\n",
       "      <td>VALUE</td>\n",
       "      <td>VALUE</td>\n",
       "      <td>VALUE</td>\n",
       "    </tr>\n",
       "    <tr>\n",
       "      <th>LocationID</th>\n",
       "      <td>15</td>\n",
       "      <td>10</td>\n",
       "      <td>59</td>\n",
       "      <td>11</td>\n",
       "    </tr>\n",
       "    <tr>\n",
       "      <th>StratificationCategory1</th>\n",
       "      <td>Income</td>\n",
       "      <td>Income</td>\n",
       "      <td>Race/Ethnicity</td>\n",
       "      <td>Income</td>\n",
       "    </tr>\n",
       "    <tr>\n",
       "      <th>Stratification1</th>\n",
       "      <td>Less than $15,000</td>\n",
       "      <td>$75,000 or greater</td>\n",
       "      <td>Asian</td>\n",
       "      <td>$50,000 - $74,999</td>\n",
       "    </tr>\n",
       "    <tr>\n",
       "      <th>StratificationCategoryId1</th>\n",
       "      <td>INC</td>\n",
       "      <td>INC</td>\n",
       "      <td>RACE</td>\n",
       "      <td>INC</td>\n",
       "    </tr>\n",
       "    <tr>\n",
       "      <th>StratificationID1</th>\n",
       "      <td>INCLESS15</td>\n",
       "      <td>INC75PLUS</td>\n",
       "      <td>RACEASN</td>\n",
       "      <td>INC5075</td>\n",
       "    </tr>\n",
       "  </tbody>\n",
       "</table>\n",
       "</div>"
      ],
      "text/plain": [
       "                                                                       50090  \\\n",
       "Year_ref                                                                2015   \n",
       "LocationAbbr                                                              HI   \n",
       "LocationDesc                                                          Hawaii   \n",
       "Datasource                        Behavioral Risk Factor Surveillance System   \n",
       "Class                                                      Physical Activity   \n",
       "Topic                                           Physical Activity - Behavior   \n",
       "Question                   Percent of adults who achieve at least 150 min...   \n",
       "Data_Value_Type                                                        Value   \n",
       "Data_Value                                                              48.3   \n",
       "Data_Value_Alt                                                          48.3   \n",
       "Low_Confidence_Limit                                                    42.1   \n",
       "High_Confidence_Limit                                                   54.7   \n",
       "Sample_Size                                                            566.0   \n",
       "GeoLocation                                   (21.304850435, -157.857749403)   \n",
       "ClassID                                                                   PA   \n",
       "TopicID                                                                  PA1   \n",
       "QuestionID                                                              Q043   \n",
       "DataValueTypeID                                                        VALUE   \n",
       "LocationID                                                                15   \n",
       "StratificationCategory1                                               Income   \n",
       "Stratification1                                            Less than $15,000   \n",
       "StratificationCategoryId1                                                INC   \n",
       "StratificationID1                                                  INCLESS15   \n",
       "\n",
       "                                                                       4901   \\\n",
       "Year_ref                                                                2018   \n",
       "LocationAbbr                                                              DE   \n",
       "LocationDesc                                                        Delaware   \n",
       "Datasource                        Behavioral Risk Factor Surveillance System   \n",
       "Class                                                      Physical Activity   \n",
       "Topic                                           Physical Activity - Behavior   \n",
       "Question                   Percent of adults who engage in no leisure-tim...   \n",
       "Data_Value_Type                                                        Value   \n",
       "Data_Value                                                              13.1   \n",
       "Data_Value_Alt                                                          13.1   \n",
       "Low_Confidence_Limit                                                    11.0   \n",
       "High_Confidence_Limit                                                   15.6   \n",
       "Sample_Size                                                           1437.0   \n",
       "GeoLocation                         (39.008830667000495, -75.57774116799965)   \n",
       "ClassID                                                                   PA   \n",
       "TopicID                                                                  PA1   \n",
       "QuestionID                                                              Q047   \n",
       "DataValueTypeID                                                        VALUE   \n",
       "LocationID                                                                10   \n",
       "StratificationCategory1                                               Income   \n",
       "Stratification1                                           $75,000 or greater   \n",
       "StratificationCategoryId1                                                INC   \n",
       "StratificationID1                                                  INC75PLUS   \n",
       "\n",
       "                                                                       12993  \\\n",
       "Year_ref                                                                2013   \n",
       "LocationAbbr                                                              US   \n",
       "LocationDesc                                                        National   \n",
       "Datasource                        Behavioral Risk Factor Surveillance System   \n",
       "Class                                                      Physical Activity   \n",
       "Topic                                           Physical Activity - Behavior   \n",
       "Question                   Percent of adults who achieve at least 150 min...   \n",
       "Data_Value_Type                                                        Value   \n",
       "Data_Value                                                              20.2   \n",
       "Data_Value_Alt                                                          20.2   \n",
       "Low_Confidence_Limit                                                    18.5   \n",
       "High_Confidence_Limit                                                   22.0   \n",
       "Sample_Size                                                           7678.0   \n",
       "GeoLocation                                                              NaN   \n",
       "ClassID                                                                   PA   \n",
       "TopicID                                                                  PA1   \n",
       "QuestionID                                                              Q044   \n",
       "DataValueTypeID                                                        VALUE   \n",
       "LocationID                                                                59   \n",
       "StratificationCategory1                                       Race/Ethnicity   \n",
       "Stratification1                                                        Asian   \n",
       "StratificationCategoryId1                                               RACE   \n",
       "StratificationID1                                                    RACEASN   \n",
       "\n",
       "                                                                       48410  \n",
       "Year_ref                                                                2019  \n",
       "LocationAbbr                                                              DC  \n",
       "LocationDesc                                            District of Columbia  \n",
       "Datasource                        Behavioral Risk Factor Surveillance System  \n",
       "Class                                                Obesity / Weight Status  \n",
       "Topic                                                Obesity / Weight Status  \n",
       "Question                   Percent of adults aged 18 years and older who ...  \n",
       "Data_Value_Type                                                        Value  \n",
       "Data_Value                                                              16.7  \n",
       "Data_Value_Alt                                                          16.7  \n",
       "Low_Confidence_Limit                                                    12.2  \n",
       "High_Confidence_Limit                                                   22.4  \n",
       "Sample_Size                                                            251.0  \n",
       "GeoLocation                          (38.89037138500049, -77.03196112699965)  \n",
       "ClassID                                                                  OWS  \n",
       "TopicID                                                                 OWS1  \n",
       "QuestionID                                                              Q036  \n",
       "DataValueTypeID                                                        VALUE  \n",
       "LocationID                                                                11  \n",
       "StratificationCategory1                                               Income  \n",
       "Stratification1                                            $50,000 - $74,999  \n",
       "StratificationCategoryId1                                                INC  \n",
       "StratificationID1                                                    INC5075  "
      ]
     },
     "execution_count": 17,
     "metadata": {},
     "output_type": "execute_result"
    }
   ],
   "source": [
    "data1.sample(4).T"
   ]
  },
  {
   "cell_type": "code",
   "execution_count": 18,
   "id": "f7bb5a12",
   "metadata": {},
   "outputs": [
    {
     "data": {
      "text/plain": [
       "array([ True, False])"
      ]
     },
     "execution_count": 18,
     "metadata": {},
     "output_type": "execute_result"
    }
   ],
   "source": [
    "(data.Data_Value == data.Data_Value_Alt).unique()"
   ]
  },
  {
   "cell_type": "code",
   "execution_count": 19,
   "id": "a1d4af82",
   "metadata": {},
   "outputs": [
    {
     "data": {
      "text/plain": [
       "array(['US', 'GU', 'WY', 'DC', 'PR', 'AL', 'RI', 'DE', 'NJ', 'WA', 'ME',\n",
       "       'MI', 'VA', 'CA', 'UT', 'NY', 'MA', 'AR', 'IL', 'NH', 'NM', 'MD',\n",
       "       'MN', 'HI', 'LA', 'SD', 'TX', 'KY', 'WV', 'CO', 'OK', 'MS', 'OR',\n",
       "       'WI', 'KS', 'FL', 'ID', 'AZ', 'VI', 'MT', 'GA', 'NC', 'PA', 'ND',\n",
       "       'SC', 'NE', 'TN', 'MO', 'NV', 'IA', 'IN', 'OH', 'AK', 'VT', 'CT'],\n",
       "      dtype=object)"
      ]
     },
     "execution_count": 19,
     "metadata": {},
     "output_type": "execute_result"
    }
   ],
   "source": [
    "data.LocationAbbr.unique()"
   ]
  },
  {
   "cell_type": "code",
   "execution_count": 20,
   "id": "12350fd6",
   "metadata": {},
   "outputs": [
    {
     "data": {
      "text/plain": [
       "array(['Physical Activity', 'Obesity / Weight Status',\n",
       "       'Fruits and Vegetables'], dtype=object)"
      ]
     },
     "execution_count": 20,
     "metadata": {},
     "output_type": "execute_result"
    }
   ],
   "source": [
    "data.Class.unique()"
   ]
  },
  {
   "cell_type": "code",
   "execution_count": 21,
   "id": "7f3a578f",
   "metadata": {},
   "outputs": [
    {
     "data": {
      "text/plain": [
       "array(['Physical Activity - Behavior', 'Obesity / Weight Status',\n",
       "       'Fruits and Vegetables - Behavior'], dtype=object)"
      ]
     },
     "execution_count": 21,
     "metadata": {},
     "output_type": "execute_result"
    }
   ],
   "source": [
    "data.Topic.unique()"
   ]
  },
  {
   "cell_type": "code",
   "execution_count": 22,
   "id": "d4bf0fae",
   "metadata": {},
   "outputs": [
    {
     "data": {
      "text/plain": [
       "array(['Q047', 'Q036', 'Q037', 'Q045', 'Q044', 'Q043', 'Q046', 'Q018',\n",
       "       'Q019'], dtype=object)"
      ]
     },
     "execution_count": 22,
     "metadata": {},
     "output_type": "execute_result"
    }
   ],
   "source": [
    "data.QuestionID.unique()"
   ]
  },
  {
   "cell_type": "code",
   "execution_count": 23,
   "id": "d6cd0cfa",
   "metadata": {},
   "outputs": [
    {
     "data": {
      "text/plain": [
       "array(['VALUE'], dtype=object)"
      ]
     },
     "execution_count": 23,
     "metadata": {},
     "output_type": "execute_result"
    }
   ],
   "source": [
    "data1.DataValueTypeID.unique()"
   ]
  },
  {
   "cell_type": "code",
   "execution_count": 24,
   "id": "889b5176",
   "metadata": {
    "scrolled": true
   },
   "outputs": [
    {
     "data": {
      "text/plain": [
       "array(['Percent of adults who engage in no leisure-time physical activity',\n",
       "       'Percent of adults aged 18 years and older who have obesity',\n",
       "       'Percent of adults aged 18 years and older who have an overweight classification',\n",
       "       'Percent of adults who achieve at least 300 minutes a week of moderate-intensity aerobic physical activity or 150 minutes a week of vigorous-intensity aerobic activity (or an equivalent combination)',\n",
       "       'Percent of adults who achieve at least 150 minutes a week of moderate-intensity aerobic physical activity or 75 minutes a week of vigorous-intensity aerobic physical activity and engage in muscle-strengthening activities on 2 or more days a week',\n",
       "       'Percent of adults who achieve at least 150 minutes a week of moderate-intensity aerobic physical activity or 75 minutes a week of vigorous-intensity aerobic activity (or an equivalent combination)',\n",
       "       'Percent of adults who engage in muscle-strengthening activities on 2 or more days a week',\n",
       "       'Percent of adults who report consuming fruit less than one time daily',\n",
       "       'Percent of adults who report consuming vegetables less than one time daily'],\n",
       "      dtype=object)"
      ]
     },
     "execution_count": 24,
     "metadata": {},
     "output_type": "execute_result"
    }
   ],
   "source": [
    "data1.Question.unique()\n"
   ]
  },
  {
   "cell_type": "code",
   "execution_count": 25,
   "id": "83d57e85",
   "metadata": {},
   "outputs": [
    {
     "data": {
      "text/plain": [
       "array([False,  True])"
      ]
     },
     "execution_count": 25,
     "metadata": {},
     "output_type": "execute_result"
    }
   ],
   "source": [
    "data1.Class.isin(data1.Topic).unique()"
   ]
  },
  {
   "cell_type": "code",
   "execution_count": 26,
   "id": "d40c50af",
   "metadata": {
    "scrolled": true
   },
   "outputs": [
    {
     "data": {
      "text/plain": [
       "array(['Behavioral Risk Factor Surveillance System'], dtype=object)"
      ]
     },
     "execution_count": 26,
     "metadata": {},
     "output_type": "execute_result"
    }
   ],
   "source": [
    "data1.Datasource.unique()"
   ]
  },
  {
   "cell_type": "markdown",
   "id": "ad517f0a",
   "metadata": {},
   "source": [
    "**Some observations**: \n",
    "\n",
    "    * Column Datasource doesn't is representative for this analysis, because this represent the source about data and have just one: Behavioral Risk Factor Surveillance System. (Will be dropped)\n",
    "    * Column DataValueTypeID have just one VALUE. Doesn't is representative. (Will be dropped) "
   ]
  },
  {
   "cell_type": "markdown",
   "id": "82f023ea",
   "metadata": {},
   "source": [
    "# 2.1  What is the Questions with link your code ?"
   ]
  },
  {
   "cell_type": "code",
   "execution_count": 27,
   "id": "f606ecdf",
   "metadata": {},
   "outputs": [
    {
     "data": {
      "text/html": [
       "<div>\n",
       "<style scoped>\n",
       "    .dataframe tbody tr th:only-of-type {\n",
       "        vertical-align: middle;\n",
       "    }\n",
       "\n",
       "    .dataframe tbody tr th {\n",
       "        vertical-align: top;\n",
       "    }\n",
       "\n",
       "    .dataframe thead th {\n",
       "        text-align: right;\n",
       "    }\n",
       "</style>\n",
       "<table border=\"1\" class=\"dataframe\">\n",
       "  <thead>\n",
       "    <tr style=\"text-align: right;\">\n",
       "      <th></th>\n",
       "      <th>Question</th>\n",
       "      <th>QuestionID</th>\n",
       "    </tr>\n",
       "  </thead>\n",
       "  <tbody>\n",
       "    <tr>\n",
       "      <th>0</th>\n",
       "      <td>Percent of adults who engage in no leisure-tim...</td>\n",
       "      <td>Q047</td>\n",
       "    </tr>\n",
       "    <tr>\n",
       "      <th>1</th>\n",
       "      <td>Percent of adults aged 18 years and older who ...</td>\n",
       "      <td>Q036</td>\n",
       "    </tr>\n",
       "    <tr>\n",
       "      <th>2</th>\n",
       "      <td>Percent of adults aged 18 years and older who ...</td>\n",
       "      <td>Q037</td>\n",
       "    </tr>\n",
       "    <tr>\n",
       "      <th>3</th>\n",
       "      <td>Percent of adults who achieve at least 300 min...</td>\n",
       "      <td>Q045</td>\n",
       "    </tr>\n",
       "    <tr>\n",
       "      <th>4</th>\n",
       "      <td>Percent of adults who achieve at least 150 min...</td>\n",
       "      <td>Q044</td>\n",
       "    </tr>\n",
       "    <tr>\n",
       "      <th>5</th>\n",
       "      <td>Percent of adults who achieve at least 150 min...</td>\n",
       "      <td>Q043</td>\n",
       "    </tr>\n",
       "    <tr>\n",
       "      <th>6</th>\n",
       "      <td>Percent of adults who engage in muscle-strengt...</td>\n",
       "      <td>Q046</td>\n",
       "    </tr>\n",
       "    <tr>\n",
       "      <th>7</th>\n",
       "      <td>Percent of adults who report consuming fruit l...</td>\n",
       "      <td>Q018</td>\n",
       "    </tr>\n",
       "    <tr>\n",
       "      <th>8</th>\n",
       "      <td>Percent of adults who report consuming vegetab...</td>\n",
       "      <td>Q019</td>\n",
       "    </tr>\n",
       "  </tbody>\n",
       "</table>\n",
       "</div>"
      ],
      "text/plain": [
       "                                            Question QuestionID\n",
       "0  Percent of adults who engage in no leisure-tim...       Q047\n",
       "1  Percent of adults aged 18 years and older who ...       Q036\n",
       "2  Percent of adults aged 18 years and older who ...       Q037\n",
       "3  Percent of adults who achieve at least 300 min...       Q045\n",
       "4  Percent of adults who achieve at least 150 min...       Q044\n",
       "5  Percent of adults who achieve at least 150 min...       Q043\n",
       "6  Percent of adults who engage in muscle-strengt...       Q046\n",
       "7  Percent of adults who report consuming fruit l...       Q018\n",
       "8  Percent of adults who report consuming vegetab...       Q019"
      ]
     },
     "execution_count": 27,
     "metadata": {},
     "output_type": "execute_result"
    }
   ],
   "source": [
    "questions_code = data1[['Question', 'QuestionID']].drop_duplicates().reset_index(drop=True)\n",
    "questions_code"
   ]
  },
  {
   "cell_type": "markdown",
   "id": "4f148fc7",
   "metadata": {},
   "source": [
    "Print all question for visualization: "
   ]
  },
  {
   "cell_type": "code",
   "execution_count": 28,
   "id": "1dc19042",
   "metadata": {
    "scrolled": true
   },
   "outputs": [
    {
     "name": "stdout",
     "output_type": "stream",
     "text": [
      "Percent of adults who engage in no leisure-time physical activity\n",
      "\n",
      "Percent of adults aged 18 years and older who have obesity\n",
      "\n",
      "Percent of adults aged 18 years and older who have an overweight classification\n",
      "\n",
      "Percent of adults who achieve at least 300 minutes a week of moderate-intensity aerobic physical activity or 150 minutes a week of vigorous-intensity aerobic activity (or an equivalent combination)\n",
      "\n",
      "Percent of adults who achieve at least 150 minutes a week of moderate-intensity aerobic physical activity or 75 minutes a week of vigorous-intensity aerobic physical activity and engage in muscle-strengthening activities on 2 or more days a week\n",
      "\n",
      "Percent of adults who achieve at least 150 minutes a week of moderate-intensity aerobic physical activity or 75 minutes a week of vigorous-intensity aerobic activity (or an equivalent combination)\n",
      "\n",
      "Percent of adults who engage in muscle-strengthening activities on 2 or more days a week\n",
      "\n",
      "Percent of adults who report consuming fruit less than one time daily\n",
      "\n",
      "Percent of adults who report consuming vegetables less than one time daily\n",
      "\n"
     ]
    }
   ],
   "source": [
    "for i in questions_code.Question.values:\n",
    "    print(i+'\\n')"
   ]
  },
  {
   "cell_type": "code",
   "execution_count": 29,
   "id": "fbcc344a",
   "metadata": {},
   "outputs": [],
   "source": [
    "# Function to return the Question by Question ID: \n",
    "def question(ID: str) -> str:\n",
    "    return questions_code.loc[questions_code.QuestionID == ID].Question.values[0]"
   ]
  },
  {
   "cell_type": "markdown",
   "id": "c879d8c6",
   "metadata": {},
   "source": [
    "# 2.1.1 What is the most frequently question? "
   ]
  },
  {
   "cell_type": "code",
   "execution_count": 30,
   "id": "abb8df39",
   "metadata": {
    "scrolled": true
   },
   "outputs": [
    {
     "data": {
      "text/plain": [
       "Q036    16577\n",
       "Q037    16577\n",
       "Q047    16549\n",
       "Q045     7449\n",
       "Q044     7449\n",
       "Q043     7449\n",
       "Q046     7449\n",
       "Q018     4565\n",
       "Q019     4565\n",
       "Name: QuestionID, dtype: int64"
      ]
     },
     "execution_count": 30,
     "metadata": {},
     "output_type": "execute_result"
    }
   ],
   "source": [
    "quest_freq = data1['QuestionID'].value_counts()\n",
    "quest_freq"
   ]
  },
  {
   "cell_type": "code",
   "execution_count": 31,
   "id": "6f6461a5",
   "metadata": {
    "scrolled": false
   },
   "outputs": [
    {
     "data": {
      "text/plain": [
       "Text(0.5, 1.0, 'Frequency about questionsID')"
      ]
     },
     "execution_count": 31,
     "metadata": {},
     "output_type": "execute_result"
    },
    {
     "data": {
      "image/png": "[encoded data removed]",
      "text/plain": [
       "<Figure size 720x288 with 1 Axes>"
      ]
     },
     "metadata": {
      "needs_background": "light"
     },
     "output_type": "display_data"
    }
   ],
   "source": [
    "#plot\n",
    "plt.figure(figsize=(10,4))\n",
    "sns.barplot(x=quest_freq.index, y = quest_freq.values)\n",
    "plt.xlabel('QuestionsID')\n",
    "plt.ylabel('Freq')\n",
    "plt.title('Frequency about questionsID')"
   ]
  },
  {
   "cell_type": "markdown",
   "id": "f3bf2b7f",
   "metadata": {},
   "source": [
    "* The most questions frequencies is _Q036_, _Q037_ and Q047.\n",
    "\n",
    "    `Q036` - *'Percent of adults aged 18 years and older who have obesity'*.\n",
    "    \n",
    "    `Q037` - *'Percent of adults aged 18 years and older who have an overweight classification'*.\n",
    "    \n",
    "    `Q047` - *'Percent of adults who engage in no leisure-time physical activity'*.\n",
    "    \n",
    "* The less frequencies is: \n",
    "\n",
    "    `Q018` - *'Percent of adults who report consuming vegetables less than one time daily'*\n",
    "    \n",
    "    `Q019` - *'Percent of adults who report consuming fruit less than one time daily'*\n",
    "\n",
    "    "
   ]
  },
  {
   "cell_type": "code",
   "execution_count": 32,
   "id": "8d81ee80",
   "metadata": {},
   "outputs": [
    {
     "data": {
      "text/plain": [
       "'Percent of adults aged 18 years and older who have obesity'"
      ]
     },
     "execution_count": 32,
     "metadata": {},
     "output_type": "execute_result"
    }
   ],
   "source": [
    "question('Q036')"
   ]
  },
  {
   "cell_type": "markdown",
   "id": "f02ad5ee",
   "metadata": {},
   "source": [
    "# 2.1.2 What is the distributions about Data_Values for this QuestionIDs"
   ]
  },
  {
   "cell_type": "code",
   "execution_count": 33,
   "id": "41962060",
   "metadata": {
    "scrolled": true
   },
   "outputs": [
    {
     "data": {
      "text/plain": [
       "Text(0.5, 1.0, 'QuestionID: Q019')"
      ]
     },
     "execution_count": 33,
     "metadata": {},
     "output_type": "execute_result"
    },
    {
     "data": {
      "image/png": "[encoded data removed]",
      "text/plain": [
       "<Figure size 1080x720 with 6 Axes>"
      ]
     },
     "metadata": {
      "needs_background": "light"
     },
     "output_type": "display_data"
    }
   ],
   "source": [
    "f, axe = plt.subplots(2,3, figsize=(15, 10))\n",
    "sns.histplot(data1.loc[data1.QuestionID == 'Q036'],\n",
    "             x='Data_Value', ax=axe[0,0])\n",
    "axe[0,0].set_title('QuestionID: Q036')\n",
    "sns.histplot(data1.loc[data1.QuestionID == 'Q037'],\n",
    "             x='Data_Value', ax=axe[0,1])\n",
    "axe[0,1].set_title('QuestionID: Q037')\n",
    "sns.histplot(data1.loc[data1.QuestionID == 'Q047'],\n",
    "             x='Data_Value', ax=axe[0,2])\n",
    "axe[0,2].set_title('QuestionID: Q047')\n",
    "sns.histplot(data1.loc[data1.QuestionID == 'Q018'],\n",
    "             x='Data_Value', ax=axe[1,0])\n",
    "axe[1,0].set_title('QuestionID: Q018')\n",
    "sns.histplot(data1.loc[data1.QuestionID == 'Q019'],\n",
    "             x='Data_Value', ax=axe[1,1])\n",
    "axe[1,1].set_title('QuestionID: Q019')"
   ]
  },
  {
   "cell_type": "code",
   "execution_count": null,
   "id": "e734db7f",
   "metadata": {},
   "outputs": [],
   "source": []
  },
  {
   "cell_type": "markdown",
   "id": "b7eebe7a",
   "metadata": {},
   "source": [
    "**Observations**\n",
    "\n",
    "Probably all the values about questions follow the normal distribution. For confirm this hypothese, we'll apply the Shapiro-Wilk test.\n",
    "\n",
    "    H0: the distribuition are normal.\n",
    "    \n",
    "For columns with contain na value yet, we fill this for respective mean value."
   ]
  },
  {
   "cell_type": "code",
   "execution_count": 34,
   "id": "f44f2e43",
   "metadata": {},
   "outputs": [],
   "source": [
    "def test_Data_value_normal(ID:str):\n",
    "    values = (\n",
    "            data1.loc[data1.QuestionID == ID].\n",
    "            Data_Value.\n",
    "            fillna(data1.loc[data1.QuestionID == ID].\n",
    "            Data_Value.mean()).\n",
    "            values\n",
    "         )\n",
    "    statistic, p_value = stats.shapiro(np.random.choice(values, size=5000))\n",
    "    print('Statistic:', statistic)\n",
    "    print('p-value:', p_value) "
   ]
  },
  {
   "cell_type": "code",
   "execution_count": 35,
   "id": "95429bd0",
   "metadata": {
    "scrolled": true
   },
   "outputs": [
    {
     "name": "stdout",
     "output_type": "stream",
     "text": [
      "Test for: Q036\n",
      "Statistic: 0.9701449275016785\n",
      "p-value: 4.823462393457932e-31\n",
      "\n",
      "\n",
      "Test for: Q037\n",
      "Statistic: 0.9689937233924866\n",
      "p-value: 1.5154948070518663e-31\n",
      "\n",
      "\n",
      "Test for: Q046\n",
      "Statistic: 0.9911469221115112\n",
      "p-value: 3.795761100927413e-17\n",
      "\n",
      "\n",
      "Test for: Q018\n",
      "Statistic: 0.9912921190261841\n",
      "p-value: 5.472591198448369e-17\n",
      "\n",
      "\n",
      "Test for: Q019\n",
      "Statistic: 0.9308733344078064\n",
      "p-value: 3.363116314379561e-43\n",
      "\n",
      "\n"
     ]
    }
   ],
   "source": [
    "main_questions = ['Q036', 'Q037', 'Q046', 'Q018', 'Q019']\n",
    "for test in main_questions:\n",
    "    print('Test for:', test)\n",
    "    test_Data_value_normal(test)\n",
    "    print('\\n')"
   ]
  },
  {
   "cell_type": "markdown",
   "id": "09fed762",
   "metadata": {},
   "source": [
    "Verify the outilers:"
   ]
  },
  {
   "cell_type": "code",
   "execution_count": 36,
   "id": "b7d05f86",
   "metadata": {},
   "outputs": [],
   "source": [
    "# Function for plot and visualize outliers\n",
    "def plot_outlier(ID: str):\n",
    "    # get data with the ID reference: \n",
    "    df = pd.DataFrame(\n",
    "        (\n",
    "            data1.loc[data1.QuestionID ==ID].\n",
    "            Data_Value.\n",
    "            fillna(data1.loc[data1.QuestionID ==ID].Data_Value.mean()).\n",
    "            values\n",
    "        ), columns=['Value'])\n",
    "\n",
    "    # get summary statistics of the data\n",
    "    summary = df.describe()\n",
    "\n",
    "    # calculate the interquartile range (IQR)\n",
    "    Q1 = summary.loc['25%','Value']\n",
    "    Q3 = summary.loc['75%','Value']\n",
    "    IQR = Q3 - Q1\n",
    "\n",
    "    # identify outlier values\n",
    "    lower_bound = Q1 - 1.5 * IQR\n",
    "    upper_bound = Q3 + 1.5 * IQR\n",
    "    outliers2 = df[(df['Value'] < lower_bound) | (df['Value'] > upper_bound)]\n",
    "\n",
    "    # Plot the outlier values\n",
    "    fig, ax = plt.subplots()\n",
    "    ax.scatter(x= range(len(df)), y=df.Value)\n",
    "    ax.scatter(x= outliers2.index.values, y=df.iloc[outliers2.index.values,:].Value.values)\n",
    "    ax.set_title(ID)\n",
    "    ax.set_ylabel('Value')\n",
    "    ax.set_xlabel('index')\n",
    "    plt.show()"
   ]
  },
  {
   "cell_type": "code",
   "execution_count": 37,
   "id": "d9f3ab0d",
   "metadata": {
    "scrolled": true
   },
   "outputs": [
    {
     "data": {
      "image/png": "[encoded data removed]",
      "text/plain": [
       "<Figure size 432x288 with 1 Axes>"
      ]
     },
     "metadata": {
      "needs_background": "light"
     },
     "output_type": "display_data"
    },
    {
     "data": {
      "image/png": "[encoded data removed]",
      "text/plain": [
       "<Figure size 432x288 with 1 Axes>"
      ]
     },
     "metadata": {
      "needs_background": "light"
     },
     "output_type": "display_data"
    },
    {
     "data": {
      "image/png": "[encoded data removed]",
      "text/plain": [
       "<Figure size 432x288 with 1 Axes>"
      ]
     },
     "metadata": {
      "needs_background": "light"
     },
     "output_type": "display_data"
    },
    {
     "data": {
      "image/png": "[encoded data removed]",
      "text/plain": [
       "<Figure size 432x288 with 1 Axes>"
      ]
     },
     "metadata": {
      "needs_background": "light"
     },
     "output_type": "display_data"
    },
    {
     "data": {
      "image/png": "[encoded data removed]",
      "text/plain": [
       "<Figure size 432x288 with 1 Axes>"
      ]
     },
     "metadata": {
      "needs_background": "light"
     },
     "output_type": "display_data"
    }
   ],
   "source": [
    "# Plot all outilers for the variables: \n",
    "plot_outlier('Q036')\n",
    "plot_outlier('Q037')\n",
    "plot_outlier('Q047')\n",
    "plot_outlier('Q019')\n",
    "plot_outlier('Q018')"
   ]
  },
  {
   "cell_type": "markdown",
   "id": "d8958e79",
   "metadata": {},
   "source": [
    "Therefore, how to show above, we fail to reject H0. Probably all distributions is a normal. "
   ]
  },
  {
   "cell_type": "code",
   "execution_count": null,
   "id": "c1256b65",
   "metadata": {},
   "outputs": [],
   "source": []
  },
  {
   "cell_type": "markdown",
   "id": "fe1779e9",
   "metadata": {},
   "source": [
    "# 2.2 - What is the top 10 higher percent of adults aged 18 years and older who have obesity and what is your location by year reference?\n",
    "\n",
    "- QuestionID = Q036"
   ]
  },
  {
   "cell_type": "code",
   "execution_count": 38,
   "id": "f16c15ee",
   "metadata": {
    "scrolled": true
   },
   "outputs": [
    {
     "data": {
      "text/plain": [
       "'Percent of adults aged 18 years and older who have obesity'"
      ]
     },
     "execution_count": 38,
     "metadata": {},
     "output_type": "execute_result"
    }
   ],
   "source": [
    "question('Q036')"
   ]
  },
  {
   "cell_type": "code",
   "execution_count": 39,
   "id": "da34a379",
   "metadata": {},
   "outputs": [],
   "source": [
    "subset_Q036 = data1.loc[data1.QuestionID=='Q036'].copy()\n",
    "top_10_obesity = subset_Q036.sort_values('Data_Value', ascending=False).reset_index(drop=True).head(10)"
   ]
  },
  {
   "cell_type": "code",
   "execution_count": 40,
   "id": "7504de5e",
   "metadata": {},
   "outputs": [],
   "source": [
    "top_10_obesity_byYear = top_10_obesity[['Year_ref', 'LocationAbbr','LocationDesc','Data_Value']].sort_values('Year_ref').reset_index(drop=True)"
   ]
  },
  {
   "cell_type": "code",
   "execution_count": 41,
   "id": "25fea0c7",
   "metadata": {},
   "outputs": [
    {
     "data": {
      "text/html": [
       "<div>\n",
       "<style scoped>\n",
       "    .dataframe tbody tr th:only-of-type {\n",
       "        vertical-align: middle;\n",
       "    }\n",
       "\n",
       "    .dataframe tbody tr th {\n",
       "        vertical-align: top;\n",
       "    }\n",
       "\n",
       "    .dataframe thead th {\n",
       "        text-align: right;\n",
       "    }\n",
       "</style>\n",
       "<table border=\"1\" class=\"dataframe\">\n",
       "  <thead>\n",
       "    <tr style=\"text-align: right;\">\n",
       "      <th></th>\n",
       "      <th>Year_ref</th>\n",
       "      <th>LocationAbbr</th>\n",
       "      <th>LocationDesc</th>\n",
       "      <th>Data_Value</th>\n",
       "      <th>Sample_Size</th>\n",
       "    </tr>\n",
       "  </thead>\n",
       "  <tbody>\n",
       "    <tr>\n",
       "      <th>0</th>\n",
       "      <td>2016</td>\n",
       "      <td>OH</td>\n",
       "      <td>Ohio</td>\n",
       "      <td>60.4</td>\n",
       "      <td>94.0</td>\n",
       "    </tr>\n",
       "    <tr>\n",
       "      <th>1</th>\n",
       "      <td>2021</td>\n",
       "      <td>VI</td>\n",
       "      <td>Virgin Islands</td>\n",
       "      <td>59.7</td>\n",
       "      <td>238.0</td>\n",
       "    </tr>\n",
       "    <tr>\n",
       "      <th>2</th>\n",
       "      <td>2011</td>\n",
       "      <td>NV</td>\n",
       "      <td>Nevada</td>\n",
       "      <td>59.2</td>\n",
       "      <td>55.0</td>\n",
       "    </tr>\n",
       "    <tr>\n",
       "      <th>3</th>\n",
       "      <td>2018</td>\n",
       "      <td>NC</td>\n",
       "      <td>North Carolina</td>\n",
       "      <td>58.6</td>\n",
       "      <td>82.0</td>\n",
       "    </tr>\n",
       "    <tr>\n",
       "      <th>4</th>\n",
       "      <td>2019</td>\n",
       "      <td>AZ</td>\n",
       "      <td>Arizona</td>\n",
       "      <td>58.0</td>\n",
       "      <td>555.0</td>\n",
       "    </tr>\n",
       "    <tr>\n",
       "      <th>5</th>\n",
       "      <td>2019</td>\n",
       "      <td>ND</td>\n",
       "      <td>North Dakota</td>\n",
       "      <td>57.8</td>\n",
       "      <td>181.0</td>\n",
       "    </tr>\n",
       "    <tr>\n",
       "      <th>6</th>\n",
       "      <td>2018</td>\n",
       "      <td>IN</td>\n",
       "      <td>Indiana</td>\n",
       "      <td>57.0</td>\n",
       "      <td>54.0</td>\n",
       "    </tr>\n",
       "    <tr>\n",
       "      <th>7</th>\n",
       "      <td>2014</td>\n",
       "      <td>WI</td>\n",
       "      <td>Wisconsin</td>\n",
       "      <td>56.9</td>\n",
       "      <td>96.0</td>\n",
       "    </tr>\n",
       "    <tr>\n",
       "      <th>8</th>\n",
       "      <td>2021</td>\n",
       "      <td>VI</td>\n",
       "      <td>Virgin Islands</td>\n",
       "      <td>56.9</td>\n",
       "      <td>101.0</td>\n",
       "    </tr>\n",
       "    <tr>\n",
       "      <th>9</th>\n",
       "      <td>2015</td>\n",
       "      <td>UT</td>\n",
       "      <td>Utah</td>\n",
       "      <td>56.5</td>\n",
       "      <td>50.0</td>\n",
       "    </tr>\n",
       "  </tbody>\n",
       "</table>\n",
       "</div>"
      ],
      "text/plain": [
       "   Year_ref LocationAbbr    LocationDesc  Data_Value  Sample_Size\n",
       "0      2016           OH            Ohio        60.4         94.0\n",
       "1      2021           VI  Virgin Islands        59.7        238.0\n",
       "2      2011           NV          Nevada        59.2         55.0\n",
       "3      2018           NC  North Carolina        58.6         82.0\n",
       "4      2019           AZ         Arizona        58.0        555.0\n",
       "5      2019           ND    North Dakota        57.8        181.0\n",
       "6      2018           IN         Indiana        57.0         54.0\n",
       "7      2014           WI       Wisconsin        56.9         96.0\n",
       "8      2021           VI  Virgin Islands        56.9        101.0\n",
       "9      2015           UT            Utah        56.5         50.0"
      ]
     },
     "execution_count": 41,
     "metadata": {},
     "output_type": "execute_result"
    }
   ],
   "source": [
    "top_10_obesity[['Year_ref','LocationAbbr', 'LocationDesc', 'Data_Value','Sample_Size']]"
   ]
  },
  {
   "cell_type": "markdown",
   "id": "2fcc624c",
   "metadata": {},
   "source": [
    "**Observation:**\n",
    "    \n",
    "    - Note that the higher values for percent obesity  was 60.4 in 2016 at Ohio. "
   ]
  },
  {
   "cell_type": "code",
   "execution_count": null,
   "id": "0746805f",
   "metadata": {},
   "outputs": [],
   "source": []
  },
  {
   "cell_type": "code",
   "execution_count": 42,
   "id": "13e647a0",
   "metadata": {
    "scrolled": true
   },
   "outputs": [
    {
     "data": {
      "text/html": [
       "<div>\n",
       "<style scoped>\n",
       "    .dataframe tbody tr th:only-of-type {\n",
       "        vertical-align: middle;\n",
       "    }\n",
       "\n",
       "    .dataframe tbody tr th {\n",
       "        vertical-align: top;\n",
       "    }\n",
       "\n",
       "    .dataframe thead th {\n",
       "        text-align: right;\n",
       "    }\n",
       "</style>\n",
       "<table border=\"1\" class=\"dataframe\">\n",
       "  <thead>\n",
       "    <tr style=\"text-align: right;\">\n",
       "      <th></th>\n",
       "      <th>Year_ref</th>\n",
       "      <th>LocationAbbr</th>\n",
       "      <th>Data_Value</th>\n",
       "    </tr>\n",
       "  </thead>\n",
       "  <tbody>\n",
       "    <tr>\n",
       "      <th>0</th>\n",
       "      <td>2011</td>\n",
       "      <td>NV</td>\n",
       "      <td>59.2</td>\n",
       "    </tr>\n",
       "    <tr>\n",
       "      <th>1</th>\n",
       "      <td>2014</td>\n",
       "      <td>WI</td>\n",
       "      <td>56.9</td>\n",
       "    </tr>\n",
       "    <tr>\n",
       "      <th>2</th>\n",
       "      <td>2015</td>\n",
       "      <td>UT</td>\n",
       "      <td>56.5</td>\n",
       "    </tr>\n",
       "    <tr>\n",
       "      <th>3</th>\n",
       "      <td>2016</td>\n",
       "      <td>OH</td>\n",
       "      <td>60.4</td>\n",
       "    </tr>\n",
       "    <tr>\n",
       "      <th>4</th>\n",
       "      <td>2018</td>\n",
       "      <td>IN</td>\n",
       "      <td>57.0</td>\n",
       "    </tr>\n",
       "    <tr>\n",
       "      <th>5</th>\n",
       "      <td>2018</td>\n",
       "      <td>NC</td>\n",
       "      <td>58.6</td>\n",
       "    </tr>\n",
       "    <tr>\n",
       "      <th>6</th>\n",
       "      <td>2019</td>\n",
       "      <td>AZ</td>\n",
       "      <td>58.0</td>\n",
       "    </tr>\n",
       "    <tr>\n",
       "      <th>7</th>\n",
       "      <td>2019</td>\n",
       "      <td>ND</td>\n",
       "      <td>57.8</td>\n",
       "    </tr>\n",
       "    <tr>\n",
       "      <th>8</th>\n",
       "      <td>2021</td>\n",
       "      <td>VI</td>\n",
       "      <td>58.3</td>\n",
       "    </tr>\n",
       "  </tbody>\n",
       "</table>\n",
       "</div>"
      ],
      "text/plain": [
       "   Year_ref LocationAbbr  Data_Value\n",
       "0      2011           NV        59.2\n",
       "1      2014           WI        56.9\n",
       "2      2015           UT        56.5\n",
       "3      2016           OH        60.4\n",
       "4      2018           IN        57.0\n",
       "5      2018           NC        58.6\n",
       "6      2019           AZ        58.0\n",
       "7      2019           ND        57.8\n",
       "8      2021           VI        58.3"
      ]
     },
     "execution_count": 42,
     "metadata": {},
     "output_type": "execute_result"
    }
   ],
   "source": [
    "top_10_obesity_byYear = top_10_obesity_byYear.groupby(by=['Year_ref','LocationAbbr']).agg({'Data_Value':'mean'}).reset_index()\n",
    "top_10_obesity_byYear"
   ]
  },
  {
   "cell_type": "code",
   "execution_count": 43,
   "id": "0b384df7",
   "metadata": {},
   "outputs": [
    {
     "data": {
      "text/plain": [
       "array(['NV', 'WI', 'UT', 'OH', 'IN', 'NC', 'AZ', 'ND', 'VI'], dtype=object)"
      ]
     },
     "execution_count": 43,
     "metadata": {},
     "output_type": "execute_result"
    }
   ],
   "source": [
    "top_10_obesity_byYear.LocationAbbr.values"
   ]
  },
  {
   "cell_type": "markdown",
   "id": "88dd0792",
   "metadata": {},
   "source": [
    "# 2.3 What is the percent obesity evolution by year per state? \n",
    "\n",
    "- QuestionID = Q036;\n",
    "\n",
    "- For put a answer for this topic, we will create a function for link the preference select state"
   ]
  },
  {
   "cell_type": "code",
   "execution_count": 44,
   "id": "ea7ecba7",
   "metadata": {},
   "outputs": [],
   "source": [
    "# Function for groupby by year by state and QuestionID\n",
    "def select_state_evolution(stateID, ID):\n",
    "    subset = data1.loc[(data1.LocationAbbr.isin(stateID)) & (data1.QuestionID==ID)]\n",
    "    return subset.groupby(by=['Year_ref','LocationAbbr']).agg({'Data_Value':'mean'}).reset_index()"
   ]
  },
  {
   "cell_type": "code",
   "execution_count": 45,
   "id": "facf0543",
   "metadata": {
    "scrolled": true
   },
   "outputs": [],
   "source": [
    "states = top_10_obesity_byYear.LocationAbbr.values\n",
    "df = select_state_evolution(states, 'Q036')\n"
   ]
  },
  {
   "cell_type": "markdown",
   "id": "a6ceafb2",
   "metadata": {},
   "source": [
    "Plot the summary for the top 10 higher percentage obesity about state:"
   ]
  },
  {
   "cell_type": "code",
   "execution_count": 46,
   "id": "639623c6",
   "metadata": {
    "scrolled": false
   },
   "outputs": [
    {
     "data": {
      "text/plain": [
       "Text(0.5, 1.0, 'Evolution for questionID: Q036 per year about the 10 higher states with more %')"
      ]
     },
     "execution_count": 46,
     "metadata": {},
     "output_type": "execute_result"
    },
    {
     "data": {
      "image/png": "[encoded data removed]",
      "text/plain": [
       "<Figure size 864x360 with 1 Axes>"
      ]
     },
     "metadata": {
      "needs_background": "light"
     },
     "output_type": "display_data"
    }
   ],
   "source": [
    "plt.figure(figsize=(12,5))\n",
    "sns.lineplot(data=df, x='Year_ref', y='Data_Value', hue='LocationAbbr')\n",
    "plt.legend()\n",
    "plt.title('Evolution for questionID: Q036 per year about the 10 higher states with more %')"
   ]
  },
  {
   "cell_type": "markdown",
   "id": "06c6fa85",
   "metadata": {},
   "source": [
    "**Observations:**\n",
    "    \n",
    "    - All states are in uptrend\n",
    "    - About the data, by 2020 all states increase yours rates of obesity"
   ]
  },
  {
   "cell_type": "markdown",
   "id": "d155f4aa",
   "metadata": {},
   "source": [
    "# 2.4 What is the correlation between the % of adults with obesity and the % of adults who do not exercise with the reference on the top 10 higher rate states with obesity?\n",
    "- QuestionID = Q036\n",
    "- QuestionID = Q047"
   ]
  },
  {
   "cell_type": "code",
   "execution_count": 47,
   "id": "49daa945",
   "metadata": {},
   "outputs": [
    {
     "data": {
      "text/plain": [
       "'Percent of adults aged 18 years and older who have obesity'"
      ]
     },
     "execution_count": 47,
     "metadata": {},
     "output_type": "execute_result"
    }
   ],
   "source": [
    "question('Q036')"
   ]
  },
  {
   "cell_type": "code",
   "execution_count": 48,
   "id": "69dc50ba",
   "metadata": {},
   "outputs": [
    {
     "data": {
      "text/plain": [
       "'Percent of adults who engage in no leisure-time physical activity'"
      ]
     },
     "execution_count": 48,
     "metadata": {},
     "output_type": "execute_result"
    }
   ],
   "source": [
    "question('Q047')"
   ]
  },
  {
   "cell_type": "code",
   "execution_count": 49,
   "id": "062b8127",
   "metadata": {},
   "outputs": [
    {
     "data": {
      "text/html": [
       "<div>\n",
       "<style scoped>\n",
       "    .dataframe tbody tr th:only-of-type {\n",
       "        vertical-align: middle;\n",
       "    }\n",
       "\n",
       "    .dataframe tbody tr th {\n",
       "        vertical-align: top;\n",
       "    }\n",
       "\n",
       "    .dataframe thead th {\n",
       "        text-align: right;\n",
       "    }\n",
       "</style>\n",
       "<table border=\"1\" class=\"dataframe\">\n",
       "  <thead>\n",
       "    <tr style=\"text-align: right;\">\n",
       "      <th></th>\n",
       "      <th>Year_ref</th>\n",
       "      <th>LocationAbbr</th>\n",
       "      <th>Data_Value</th>\n",
       "    </tr>\n",
       "  </thead>\n",
       "  <tbody>\n",
       "    <tr>\n",
       "      <th>0</th>\n",
       "      <td>2011</td>\n",
       "      <td>NV</td>\n",
       "      <td>59.2</td>\n",
       "    </tr>\n",
       "    <tr>\n",
       "      <th>1</th>\n",
       "      <td>2014</td>\n",
       "      <td>WI</td>\n",
       "      <td>56.9</td>\n",
       "    </tr>\n",
       "    <tr>\n",
       "      <th>2</th>\n",
       "      <td>2015</td>\n",
       "      <td>UT</td>\n",
       "      <td>56.5</td>\n",
       "    </tr>\n",
       "    <tr>\n",
       "      <th>3</th>\n",
       "      <td>2016</td>\n",
       "      <td>OH</td>\n",
       "      <td>60.4</td>\n",
       "    </tr>\n",
       "    <tr>\n",
       "      <th>4</th>\n",
       "      <td>2018</td>\n",
       "      <td>IN</td>\n",
       "      <td>57.0</td>\n",
       "    </tr>\n",
       "    <tr>\n",
       "      <th>5</th>\n",
       "      <td>2018</td>\n",
       "      <td>NC</td>\n",
       "      <td>58.6</td>\n",
       "    </tr>\n",
       "    <tr>\n",
       "      <th>6</th>\n",
       "      <td>2019</td>\n",
       "      <td>AZ</td>\n",
       "      <td>58.0</td>\n",
       "    </tr>\n",
       "    <tr>\n",
       "      <th>7</th>\n",
       "      <td>2019</td>\n",
       "      <td>ND</td>\n",
       "      <td>57.8</td>\n",
       "    </tr>\n",
       "    <tr>\n",
       "      <th>8</th>\n",
       "      <td>2021</td>\n",
       "      <td>VI</td>\n",
       "      <td>58.3</td>\n",
       "    </tr>\n",
       "  </tbody>\n",
       "</table>\n",
       "</div>"
      ],
      "text/plain": [
       "   Year_ref LocationAbbr  Data_Value\n",
       "0      2011           NV        59.2\n",
       "1      2014           WI        56.9\n",
       "2      2015           UT        56.5\n",
       "3      2016           OH        60.4\n",
       "4      2018           IN        57.0\n",
       "5      2018           NC        58.6\n",
       "6      2019           AZ        58.0\n",
       "7      2019           ND        57.8\n",
       "8      2021           VI        58.3"
      ]
     },
     "execution_count": 49,
     "metadata": {},
     "output_type": "execute_result"
    }
   ],
   "source": [
    "top_10_obesity_byYear"
   ]
  },
  {
   "cell_type": "markdown",
   "id": "409522f2",
   "metadata": {},
   "source": [
    "### 2.5 What are the 10 regions that have the highest rates of non-exercise practitioners?"
   ]
  },
  {
   "cell_type": "code",
   "execution_count": null,
   "id": "da9c8f83",
   "metadata": {},
   "outputs": [],
   "source": []
  },
  {
   "cell_type": "markdown",
   "id": "77659b6f",
   "metadata": {},
   "source": [
    "### 2.6 Is there any direct relationship between the 10 regions with the highest obesity rates and the 10 regions that were selected in terms of not exercising?"
   ]
  },
  {
   "cell_type": "code",
   "execution_count": null,
   "id": "365f03ff",
   "metadata": {},
   "outputs": [],
   "source": []
  },
  {
   "cell_type": "code",
   "execution_count": null,
   "id": "2e46dc58",
   "metadata": {},
   "outputs": [],
   "source": []
  }
 ],
 "metadata": {
  "kernelspec": {
   "display_name": "Python 3 (ipykernel)",
   "language": "python",
   "name": "python3"
  },
  "language_info": {
   "codemirror_mode": {
    "name": "ipython",
    "version": 3
   },
   "file_extension": ".py",
   "mimetype": "text/x-python",
   "name": "python",
   "nbconvert_exporter": "python",
   "pygments_lexer": "ipython3",
   "version": "3.9.12"
  }
 },
 "nbformat": 4,
 "nbformat_minor": 5
}
